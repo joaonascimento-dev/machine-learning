{
 "cells": [
  {
   "cell_type": "markdown",
   "metadata": {
    "colab_type": "text",
    "id": "l_LulNCC8z96"
   },
   "source": []
  },
  {
   "cell_type": "code",
   "execution_count": 2,
   "metadata": {
    "ExecuteTime": {
     "end_time": "2024-04-09T22:38:44.932229600Z",
     "start_time": "2024-04-09T22:38:44.925238700Z"
    }
   },
   "outputs": [],
   "source": [
    "import numpy as np\n",
    "import pandas as pd\n",
    "import matplotlib.pyplot as plt\n",
    "import seaborn as sns"
   ]
  },
  {
   "cell_type": "code",
   "execution_count": 3,
   "metadata": {
    "ExecuteTime": {
     "end_time": "2024-04-09T22:38:44.946206200Z",
     "start_time": "2024-04-09T22:38:44.931706100Z"
    }
   },
   "outputs": [],
   "source": [
    "sns.set_style(\"whitegrid\")\n",
    "\n",
    "params = {'legend.fontsize': 'x-large',\n",
    "          'figure.figsize': (15, 5),\n",
    "         'axes.labelsize': 'x-large',\n",
    "         'axes.titlesize':'x-large',\n",
    "         'xtick.labelsize':'x-large',\n",
    "         'ytick.labelsize':'x-large'}\n",
    "plt.rcParams.update(params)"
   ]
  },
  {
   "cell_type": "markdown",
   "metadata": {},
   "source": [
    "# <font color='#0C509E' style='font-size: 40px;'>Logistic Regression - V1</font>"
   ]
  },
  {
   "cell_type": "markdown",
   "metadata": {},
   "source": [
    "## 1. Exploring the Data"
   ]
  },
  {
   "cell_type": "markdown",
   "metadata": {},
   "source": [
    "This is a dummy dataset that pesents if customers have purchased a given product or not.<br/>\n",
    "\n",
    "**Dataset:** https://www.kaggle.com/rakeshrau/social-network-ads"
   ]
  },
  {
   "cell_type": "markdown",
   "metadata": {
    "colab_type": "text",
    "id": "6JhpWJi59J1p"
   },
   "source": [
    "### 1.1. Importing the Dataset"
   ]
  },
  {
   "cell_type": "code",
   "execution_count": 5,
   "metadata": {
    "ExecuteTime": {
     "end_time": "2024-04-09T22:39:37.863020Z",
     "start_time": "2024-04-09T22:39:37.853509900Z"
    }
   },
   "outputs": [],
   "source": [
    "df = pd.read_csv('./datasets/Social_Network_Ads.csv')"
   ]
  },
  {
   "cell_type": "code",
   "execution_count": 6,
   "metadata": {
    "ExecuteTime": {
     "end_time": "2024-04-09T22:39:39.714058300Z",
     "start_time": "2024-04-09T22:39:39.680322500Z"
    }
   },
   "outputs": [
    {
     "data": {
      "text/plain": "    User ID  Gender  Age  EstimatedSalary  Purchased\n0  15624510    Male   19            19000          0\n1  15810944    Male   35            20000          0\n2  15668575  Female   26            43000          0\n3  15603246  Female   27            57000          0\n4  15804002    Male   19            76000          0",
      "text/html": "<div>\n<style scoped>\n    .dataframe tbody tr th:only-of-type {\n        vertical-align: middle;\n    }\n\n    .dataframe tbody tr th {\n        vertical-align: top;\n    }\n\n    .dataframe thead th {\n        text-align: right;\n    }\n</style>\n<table border=\"1\" class=\"dataframe\">\n  <thead>\n    <tr style=\"text-align: right;\">\n      <th></th>\n      <th>User ID</th>\n      <th>Gender</th>\n      <th>Age</th>\n      <th>EstimatedSalary</th>\n      <th>Purchased</th>\n    </tr>\n  </thead>\n  <tbody>\n    <tr>\n      <th>0</th>\n      <td>15624510</td>\n      <td>Male</td>\n      <td>19</td>\n      <td>19000</td>\n      <td>0</td>\n    </tr>\n    <tr>\n      <th>1</th>\n      <td>15810944</td>\n      <td>Male</td>\n      <td>35</td>\n      <td>20000</td>\n      <td>0</td>\n    </tr>\n    <tr>\n      <th>2</th>\n      <td>15668575</td>\n      <td>Female</td>\n      <td>26</td>\n      <td>43000</td>\n      <td>0</td>\n    </tr>\n    <tr>\n      <th>3</th>\n      <td>15603246</td>\n      <td>Female</td>\n      <td>27</td>\n      <td>57000</td>\n      <td>0</td>\n    </tr>\n    <tr>\n      <th>4</th>\n      <td>15804002</td>\n      <td>Male</td>\n      <td>19</td>\n      <td>76000</td>\n      <td>0</td>\n    </tr>\n  </tbody>\n</table>\n</div>"
     },
     "execution_count": 6,
     "metadata": {},
     "output_type": "execute_result"
    }
   ],
   "source": [
    "df.head()"
   ]
  },
  {
   "cell_type": "markdown",
   "metadata": {},
   "source": [
    "### 1.2. Basic Information about the Dataset"
   ]
  },
  {
   "cell_type": "code",
   "execution_count": 7,
   "metadata": {
    "ExecuteTime": {
     "end_time": "2024-04-09T22:40:32.126626800Z",
     "start_time": "2024-04-09T22:40:32.093655300Z"
    }
   },
   "outputs": [
    {
     "name": "stdout",
     "output_type": "stream",
     "text": [
      "This dataset has 400 observations/samples/rows and 5 attributes/features/colunas\n"
     ]
    }
   ],
   "source": [
    "print(f'This dataset has {df.shape[0]} observations/samples/rows and {df.shape[1]} attributes/features/colunas')"
   ]
  },
  {
   "cell_type": "code",
   "execution_count": 8,
   "metadata": {
    "ExecuteTime": {
     "end_time": "2024-04-09T22:40:42.316333400Z",
     "start_time": "2024-04-09T22:40:42.302800800Z"
    }
   },
   "outputs": [
    {
     "name": "stdout",
     "output_type": "stream",
     "text": [
      "<class 'pandas.core.frame.DataFrame'>\n",
      "RangeIndex: 400 entries, 0 to 399\n",
      "Data columns (total 5 columns):\n",
      " #   Column           Non-Null Count  Dtype \n",
      "---  ------           --------------  ----- \n",
      " 0   User ID          400 non-null    int64 \n",
      " 1   Gender           400 non-null    object\n",
      " 2   Age              400 non-null    int64 \n",
      " 3   EstimatedSalary  400 non-null    int64 \n",
      " 4   Purchased        400 non-null    int64 \n",
      "dtypes: int64(4), object(1)\n",
      "memory usage: 15.8+ KB\n"
     ]
    }
   ],
   "source": [
    "df.info()"
   ]
  },
  {
   "cell_type": "markdown",
   "metadata": {},
   "source": [
    "<br/>**\"Purchased\"** is a _dependent variable_ and the others are _independent variables_."
   ]
  },
  {
   "cell_type": "code",
   "execution_count": 10,
   "metadata": {
    "ExecuteTime": {
     "end_time": "2024-04-09T22:42:13.861702300Z",
     "start_time": "2024-04-09T22:42:13.832373800Z"
    }
   },
   "outputs": [
    {
     "data": {
      "text/plain": "array([0, 1], dtype=int64)"
     },
     "metadata": {},
     "output_type": "display_data"
    }
   ],
   "source": [
    "display(df['Purchased'].unique())"
   ]
  },
  {
   "cell_type": "markdown",
   "metadata": {},
   "source": [
    "**Two clases: Binary** Classification Problem."
   ]
  },
  {
   "cell_type": "code",
   "execution_count": 11,
   "metadata": {
    "ExecuteTime": {
     "end_time": "2024-04-09T22:43:08.646992800Z",
     "start_time": "2024-04-09T22:43:08.630372600Z"
    }
   },
   "outputs": [
    {
     "data": {
      "text/plain": "Purchased\n0    257\n1    143\nName: count, dtype: int64"
     },
     "execution_count": 11,
     "metadata": {},
     "output_type": "execute_result"
    }
   ],
   "source": [
    "df['Purchased'].value_counts()"
   ]
  },
  {
   "cell_type": "code",
   "execution_count": 12,
   "metadata": {
    "ExecuteTime": {
     "end_time": "2024-04-09T22:44:23.757132500Z",
     "start_time": "2024-04-09T22:44:23.737929900Z"
    }
   },
   "outputs": [
    {
     "data": {
      "text/plain": "Purchased\n0    0.6425\n1    0.3575\nName: count, dtype: float64"
     },
     "execution_count": 12,
     "metadata": {},
     "output_type": "execute_result"
    }
   ],
   "source": [
    "df['Purchased'].value_counts()/df.shape[0]"
   ]
  },
  {
   "cell_type": "markdown",
   "metadata": {},
   "source": [
    "There is a **class imbalance**: _class 0_ represents 64.25% of the samples while _class 1_ has 35.75%. <br/>\n",
    "This can _hinder_ the model training. <br/>\n",
    "However, we will ignore this for now."
   ]
  },
  {
   "cell_type": "markdown",
   "metadata": {},
   "source": [
    "### 1.3. Correlation matrix"
   ]
  },
  {
   "cell_type": "code",
   "execution_count": 14,
   "metadata": {
    "ExecuteTime": {
     "end_time": "2024-04-09T22:47:05.868562100Z",
     "start_time": "2024-04-09T22:47:05.858411800Z"
    }
   },
   "outputs": [
    {
     "data": {
      "text/plain": "                      Age  EstimatedSalary  Purchased\nAge              1.000000         0.155238   0.622454\nEstimatedSalary  0.155238         1.000000   0.362083\nPurchased        0.622454         0.362083   1.000000",
      "text/html": "<div>\n<style scoped>\n    .dataframe tbody tr th:only-of-type {\n        vertical-align: middle;\n    }\n\n    .dataframe tbody tr th {\n        vertical-align: top;\n    }\n\n    .dataframe thead th {\n        text-align: right;\n    }\n</style>\n<table border=\"1\" class=\"dataframe\">\n  <thead>\n    <tr style=\"text-align: right;\">\n      <th></th>\n      <th>Age</th>\n      <th>EstimatedSalary</th>\n      <th>Purchased</th>\n    </tr>\n  </thead>\n  <tbody>\n    <tr>\n      <th>Age</th>\n      <td>1.000000</td>\n      <td>0.155238</td>\n      <td>0.622454</td>\n    </tr>\n    <tr>\n      <th>EstimatedSalary</th>\n      <td>0.155238</td>\n      <td>1.000000</td>\n      <td>0.362083</td>\n    </tr>\n    <tr>\n      <th>Purchased</th>\n      <td>0.622454</td>\n      <td>0.362083</td>\n      <td>1.000000</td>\n    </tr>\n  </tbody>\n</table>\n</div>"
     },
     "execution_count": 14,
     "metadata": {},
     "output_type": "execute_result"
    }
   ],
   "source": [
    "df[['Age', 'EstimatedSalary', 'Purchased']].corr()"
   ]
  },
  {
   "cell_type": "markdown",
   "metadata": {},
   "source": [
    "## 2. Training a Logistic Regression model with a _single_ feature"
   ]
  },
  {
   "cell_type": "markdown",
   "metadata": {},
   "source": [
    "Let's start with a simpler version of our **binary classifier**, training a logistic regressor on _just_ **a single independent variable** (_feature_)."
   ]
  },
  {
   "cell_type": "markdown",
   "metadata": {},
   "source": [
    "### 2.1. Extracting the independent and dependent variables"
   ]
  },
  {
   "cell_type": "code",
   "execution_count": 15,
   "metadata": {
    "ExecuteTime": {
     "end_time": "2024-04-09T22:49:12.306132Z",
     "start_time": "2024-04-09T22:49:12.295975200Z"
    }
   },
   "outputs": [
    {
     "data": {
      "text/plain": "    User ID  Gender  Age  EstimatedSalary  Purchased\n0  15624510    Male   19            19000          0\n1  15810944    Male   35            20000          0\n2  15668575  Female   26            43000          0\n3  15603246  Female   27            57000          0\n4  15804002    Male   19            76000          0",
      "text/html": "<div>\n<style scoped>\n    .dataframe tbody tr th:only-of-type {\n        vertical-align: middle;\n    }\n\n    .dataframe tbody tr th {\n        vertical-align: top;\n    }\n\n    .dataframe thead th {\n        text-align: right;\n    }\n</style>\n<table border=\"1\" class=\"dataframe\">\n  <thead>\n    <tr style=\"text-align: right;\">\n      <th></th>\n      <th>User ID</th>\n      <th>Gender</th>\n      <th>Age</th>\n      <th>EstimatedSalary</th>\n      <th>Purchased</th>\n    </tr>\n  </thead>\n  <tbody>\n    <tr>\n      <th>0</th>\n      <td>15624510</td>\n      <td>Male</td>\n      <td>19</td>\n      <td>19000</td>\n      <td>0</td>\n    </tr>\n    <tr>\n      <th>1</th>\n      <td>15810944</td>\n      <td>Male</td>\n      <td>35</td>\n      <td>20000</td>\n      <td>0</td>\n    </tr>\n    <tr>\n      <th>2</th>\n      <td>15668575</td>\n      <td>Female</td>\n      <td>26</td>\n      <td>43000</td>\n      <td>0</td>\n    </tr>\n    <tr>\n      <th>3</th>\n      <td>15603246</td>\n      <td>Female</td>\n      <td>27</td>\n      <td>57000</td>\n      <td>0</td>\n    </tr>\n    <tr>\n      <th>4</th>\n      <td>15804002</td>\n      <td>Male</td>\n      <td>19</td>\n      <td>76000</td>\n      <td>0</td>\n    </tr>\n  </tbody>\n</table>\n</div>"
     },
     "execution_count": 15,
     "metadata": {},
     "output_type": "execute_result"
    }
   ],
   "source": [
    "df.head()"
   ]
  },
  {
   "cell_type": "markdown",
   "metadata": {},
   "source": [
    "#### Feature matrix (X)"
   ]
  },
  {
   "cell_type": "code",
   "execution_count": 16,
   "metadata": {
    "ExecuteTime": {
     "end_time": "2024-04-09T22:49:42.851104800Z",
     "start_time": "2024-04-09T22:49:42.826554900Z"
    }
   },
   "outputs": [],
   "source": [
    "X = df[['Age']] "
   ]
  },
  {
   "cell_type": "code",
   "execution_count": 17,
   "metadata": {
    "ExecuteTime": {
     "end_time": "2024-04-09T22:49:46.092000200Z",
     "start_time": "2024-04-09T22:49:46.076013600Z"
    }
   },
   "outputs": [
    {
     "data": {
      "text/plain": "     Age\n0     19\n1     35\n2     26\n3     27\n4     19\n..   ...\n395   46\n396   51\n397   50\n398   36\n399   49\n\n[400 rows x 1 columns]",
      "text/html": "<div>\n<style scoped>\n    .dataframe tbody tr th:only-of-type {\n        vertical-align: middle;\n    }\n\n    .dataframe tbody tr th {\n        vertical-align: top;\n    }\n\n    .dataframe thead th {\n        text-align: right;\n    }\n</style>\n<table border=\"1\" class=\"dataframe\">\n  <thead>\n    <tr style=\"text-align: right;\">\n      <th></th>\n      <th>Age</th>\n    </tr>\n  </thead>\n  <tbody>\n    <tr>\n      <th>0</th>\n      <td>19</td>\n    </tr>\n    <tr>\n      <th>1</th>\n      <td>35</td>\n    </tr>\n    <tr>\n      <th>2</th>\n      <td>26</td>\n    </tr>\n    <tr>\n      <th>3</th>\n      <td>27</td>\n    </tr>\n    <tr>\n      <th>4</th>\n      <td>19</td>\n    </tr>\n    <tr>\n      <th>...</th>\n      <td>...</td>\n    </tr>\n    <tr>\n      <th>395</th>\n      <td>46</td>\n    </tr>\n    <tr>\n      <th>396</th>\n      <td>51</td>\n    </tr>\n    <tr>\n      <th>397</th>\n      <td>50</td>\n    </tr>\n    <tr>\n      <th>398</th>\n      <td>36</td>\n    </tr>\n    <tr>\n      <th>399</th>\n      <td>49</td>\n    </tr>\n  </tbody>\n</table>\n<p>400 rows × 1 columns</p>\n</div>"
     },
     "execution_count": 17,
     "metadata": {},
     "output_type": "execute_result"
    }
   ],
   "source": [
    "X"
   ]
  },
  {
   "cell_type": "markdown",
   "metadata": {},
   "source": [
    "#### Ground-truth Classes (y)"
   ]
  },
  {
   "cell_type": "code",
   "execution_count": 18,
   "metadata": {
    "ExecuteTime": {
     "end_time": "2024-04-09T22:50:17.301409500Z",
     "start_time": "2024-04-09T22:50:17.288635900Z"
    }
   },
   "outputs": [],
   "source": [
    "y = df[['Purchased']]"
   ]
  },
  {
   "cell_type": "code",
   "execution_count": 19,
   "metadata": {
    "ExecuteTime": {
     "end_time": "2024-04-09T22:50:18.472966400Z",
     "start_time": "2024-04-09T22:50:18.466144800Z"
    }
   },
   "outputs": [
    {
     "data": {
      "text/plain": "     Purchased\n0            0\n1            0\n2            0\n3            0\n4            0\n..         ...\n395          1\n396          1\n397          1\n398          0\n399          1\n\n[400 rows x 1 columns]",
      "text/html": "<div>\n<style scoped>\n    .dataframe tbody tr th:only-of-type {\n        vertical-align: middle;\n    }\n\n    .dataframe tbody tr th {\n        vertical-align: top;\n    }\n\n    .dataframe thead th {\n        text-align: right;\n    }\n</style>\n<table border=\"1\" class=\"dataframe\">\n  <thead>\n    <tr style=\"text-align: right;\">\n      <th></th>\n      <th>Purchased</th>\n    </tr>\n  </thead>\n  <tbody>\n    <tr>\n      <th>0</th>\n      <td>0</td>\n    </tr>\n    <tr>\n      <th>1</th>\n      <td>0</td>\n    </tr>\n    <tr>\n      <th>2</th>\n      <td>0</td>\n    </tr>\n    <tr>\n      <th>3</th>\n      <td>0</td>\n    </tr>\n    <tr>\n      <th>4</th>\n      <td>0</td>\n    </tr>\n    <tr>\n      <th>...</th>\n      <td>...</td>\n    </tr>\n    <tr>\n      <th>395</th>\n      <td>1</td>\n    </tr>\n    <tr>\n      <th>396</th>\n      <td>1</td>\n    </tr>\n    <tr>\n      <th>397</th>\n      <td>1</td>\n    </tr>\n    <tr>\n      <th>398</th>\n      <td>0</td>\n    </tr>\n    <tr>\n      <th>399</th>\n      <td>1</td>\n    </tr>\n  </tbody>\n</table>\n<p>400 rows × 1 columns</p>\n</div>"
     },
     "execution_count": 19,
     "metadata": {},
     "output_type": "execute_result"
    }
   ],
   "source": [
    "y"
   ]
  },
  {
   "cell_type": "markdown",
   "metadata": {
    "colab_type": "text",
    "id": "AyhQaTwP9RzG"
   },
   "source": [
    "### 2.2. Splitting the dataset into Training Set and Test Set\n",
    "https://scikit-learn.org/stable/modules/generated/sklearn.model_selection.train_test_split.html\n",
    "\n",
    "**PS:** Use _stratified_ split."
   ]
  },
  {
   "cell_type": "code",
   "execution_count": 20,
   "metadata": {
    "ExecuteTime": {
     "end_time": "2024-04-09T22:50:54.666674500Z",
     "start_time": "2024-04-09T22:50:47.669173300Z"
    }
   },
   "outputs": [],
   "source": [
    "from sklearn.model_selection import train_test_split"
   ]
  },
  {
   "cell_type": "code",
   "execution_count": 21,
   "metadata": {
    "ExecuteTime": {
     "end_time": "2024-04-09T22:50:58.381601100Z",
     "start_time": "2024-04-09T22:50:58.338320700Z"
    }
   },
   "outputs": [],
   "source": [
    "X_train, X_test, y_train, y_test = train_test_split(X, y, test_size=0.2, random_state=42)"
   ]
  },
  {
   "cell_type": "markdown",
   "metadata": {},
   "source": [
    "##### **Checking training and test set sizes**"
   ]
  },
  {
   "cell_type": "code",
   "execution_count": 22,
   "metadata": {
    "ExecuteTime": {
     "end_time": "2024-04-09T22:51:17.583856800Z",
     "start_time": "2024-04-09T22:51:17.572316800Z"
    }
   },
   "outputs": [
    {
     "data": {
      "text/plain": "((400, 1), (400, 1))"
     },
     "execution_count": 22,
     "metadata": {},
     "output_type": "execute_result"
    }
   ],
   "source": [
    "X.shape, y.shape"
   ]
  },
  {
   "cell_type": "code",
   "execution_count": 23,
   "metadata": {
    "ExecuteTime": {
     "end_time": "2024-04-09T22:51:25.112084400Z",
     "start_time": "2024-04-09T22:51:25.096589400Z"
    }
   },
   "outputs": [
    {
     "data": {
      "text/plain": "((320, 1), (320, 1))"
     },
     "execution_count": 23,
     "metadata": {},
     "output_type": "execute_result"
    }
   ],
   "source": [
    "X_train.shape, y_train.shape"
   ]
  },
  {
   "cell_type": "code",
   "execution_count": 24,
   "metadata": {
    "ExecuteTime": {
     "end_time": "2024-04-09T22:51:27.522973600Z",
     "start_time": "2024-04-09T22:51:27.514540700Z"
    }
   },
   "outputs": [
    {
     "data": {
      "text/plain": "((80, 1), (80, 1))"
     },
     "execution_count": 24,
     "metadata": {},
     "output_type": "execute_result"
    }
   ],
   "source": [
    "X_test.shape, y_test.shape"
   ]
  },
  {
   "cell_type": "code",
   "execution_count": 25,
   "metadata": {
    "ExecuteTime": {
     "end_time": "2024-04-09T22:51:32.357105800Z",
     "start_time": "2024-04-09T22:51:32.341536800Z"
    }
   },
   "outputs": [
    {
     "data": {
      "text/plain": "     Age\n3     27\n18    46\n202   39\n250   44\n274   57",
      "text/html": "<div>\n<style scoped>\n    .dataframe tbody tr th:only-of-type {\n        vertical-align: middle;\n    }\n\n    .dataframe tbody tr th {\n        vertical-align: top;\n    }\n\n    .dataframe thead th {\n        text-align: right;\n    }\n</style>\n<table border=\"1\" class=\"dataframe\">\n  <thead>\n    <tr style=\"text-align: right;\">\n      <th></th>\n      <th>Age</th>\n    </tr>\n  </thead>\n  <tbody>\n    <tr>\n      <th>3</th>\n      <td>27</td>\n    </tr>\n    <tr>\n      <th>18</th>\n      <td>46</td>\n    </tr>\n    <tr>\n      <th>202</th>\n      <td>39</td>\n    </tr>\n    <tr>\n      <th>250</th>\n      <td>44</td>\n    </tr>\n    <tr>\n      <th>274</th>\n      <td>57</td>\n    </tr>\n  </tbody>\n</table>\n</div>"
     },
     "execution_count": 25,
     "metadata": {},
     "output_type": "execute_result"
    }
   ],
   "source": [
    "X_train.head()"
   ]
  },
  {
   "cell_type": "code",
   "execution_count": 26,
   "metadata": {
    "ExecuteTime": {
     "end_time": "2024-04-09T22:51:46.816033600Z",
     "start_time": "2024-04-09T22:51:46.805777200Z"
    }
   },
   "outputs": [
    {
     "data": {
      "text/plain": "     Age\n209   46\n280   59\n33    28\n210   48\n93    29",
      "text/html": "<div>\n<style scoped>\n    .dataframe tbody tr th:only-of-type {\n        vertical-align: middle;\n    }\n\n    .dataframe tbody tr th {\n        vertical-align: top;\n    }\n\n    .dataframe thead th {\n        text-align: right;\n    }\n</style>\n<table border=\"1\" class=\"dataframe\">\n  <thead>\n    <tr style=\"text-align: right;\">\n      <th></th>\n      <th>Age</th>\n    </tr>\n  </thead>\n  <tbody>\n    <tr>\n      <th>209</th>\n      <td>46</td>\n    </tr>\n    <tr>\n      <th>280</th>\n      <td>59</td>\n    </tr>\n    <tr>\n      <th>33</th>\n      <td>28</td>\n    </tr>\n    <tr>\n      <th>210</th>\n      <td>48</td>\n    </tr>\n    <tr>\n      <th>93</th>\n      <td>29</td>\n    </tr>\n  </tbody>\n</table>\n</div>"
     },
     "execution_count": 26,
     "metadata": {},
     "output_type": "execute_result"
    }
   ],
   "source": [
    "X_test.head()"
   ]
  },
  {
   "cell_type": "markdown",
   "metadata": {},
   "source": [
    "##### **Checking the class proportions**\n",
    "Recall that, considering the whole data, _class 0_ has 64.25% of the samples while _class 1_ has 35.75%"
   ]
  },
  {
   "cell_type": "code",
   "execution_count": 27,
   "metadata": {
    "ExecuteTime": {
     "end_time": "2024-04-09T22:53:25.194995100Z",
     "start_time": "2024-04-09T22:53:25.184597300Z"
    }
   },
   "outputs": [
    {
     "data": {
      "text/plain": "Purchased\n0            0.640625\n1            0.359375\nName: count, dtype: float64"
     },
     "execution_count": 27,
     "metadata": {},
     "output_type": "execute_result"
    }
   ],
   "source": [
    "# training set\n",
    "y_train.value_counts()/ y_train.shape[0]"
   ]
  },
  {
   "cell_type": "code",
   "execution_count": 28,
   "metadata": {
    "ExecuteTime": {
     "end_time": "2024-04-09T22:53:42.126932400Z",
     "start_time": "2024-04-09T22:53:42.102193500Z"
    }
   },
   "outputs": [
    {
     "data": {
      "text/plain": "Purchased\n0            0.65\n1            0.35\nName: count, dtype: float64"
     },
     "execution_count": 28,
     "metadata": {},
     "output_type": "execute_result"
    }
   ],
   "source": [
    "# training set\n",
    "y_test.value_counts()/ y_test.shape[0]"
   ]
  },
  {
   "cell_type": "markdown",
   "metadata": {},
   "source": [
    "### 2.3 Visualizing the training set"
   ]
  },
  {
   "cell_type": "code",
   "execution_count": 42,
   "metadata": {
    "ExecuteTime": {
     "end_time": "2024-04-09T22:59:22.801934700Z",
     "start_time": "2024-04-09T22:59:22.550221500Z"
    }
   },
   "outputs": [
    {
     "data": {
      "text/plain": "<Axes: xlabel='Age', ylabel='Purchased'>"
     },
     "execution_count": 42,
     "metadata": {},
     "output_type": "execute_result"
    },
    {
     "data": {
      "text/plain": "<Figure size 1500x500 with 1 Axes>",
      "image/png": "[encoded data removed]"
     },
     "metadata": {},
     "output_type": "display_data"
    }
   ],
   "source": [
    "sns.scatterplot(x=X_train['Age'], y=y_train['Purchased'], hue=y_train['Purchased'])"
   ]
  },
  {
   "cell_type": "markdown",
   "metadata": {
    "colab_type": "text",
    "id": "ZijQwFMQ9itx"
   },
   "source": [
    "### 2.4. Training a Logistic Regression Model\n",
    "https://scikit-learn.org/stable/modules/generated/sklearn.linear_model.LogisticRegression.html"
   ]
  },
  {
   "cell_type": "code",
   "execution_count": 43,
   "metadata": {
    "ExecuteTime": {
     "end_time": "2024-04-09T23:01:48.826276500Z",
     "start_time": "2024-04-09T23:01:43.321318600Z"
    }
   },
   "outputs": [],
   "source": [
    "from sklearn.linear_model import LogisticRegression  "
   ]
  },
  {
   "cell_type": "code",
   "execution_count": 45,
   "metadata": {
    "ExecuteTime": {
     "end_time": "2024-04-09T23:03:12.594748200Z",
     "start_time": "2024-04-09T23:03:12.559798200Z"
    }
   },
   "outputs": [],
   "source": [
    "classifier = LogisticRegression(random_state=42)"
   ]
  },
  {
   "cell_type": "code",
   "execution_count": 53,
   "metadata": {
    "ExecuteTime": {
     "end_time": "2024-04-09T23:05:31.296048500Z",
     "start_time": "2024-04-09T23:05:31.278209600Z"
    }
   },
   "outputs": [
    {
     "data": {
      "text/plain": "LogisticRegression(random_state=42)",
      "text/html": "<style>#sk-container-id-4 {color: black;background-color: white;}#sk-container-id-4 pre{padding: 0;}#sk-container-id-4 div.sk-toggleable {background-color: white;}#sk-container-id-4 label.sk-toggleable__label {cursor: pointer;display: block;width: 100%;margin-bottom: 0;padding: 0.3em;box-sizing: border-box;text-align: center;}#sk-container-id-4 label.sk-toggleable__label-arrow:before {content: \"▸\";float: left;margin-right: 0.25em;color: #696969;}#sk-container-id-4 label.sk-toggleable__label-arrow:hover:before {color: black;}#sk-container-id-4 div.sk-estimator:hover label.sk-toggleable__label-arrow:before {color: black;}#sk-container-id-4 div.sk-toggleable__content {max-height: 0;max-width: 0;overflow: hidden;text-align: left;background-color: #f0f8ff;}#sk-container-id-4 div.sk-toggleable__content pre {margin: 0.2em;color: black;border-radius: 0.25em;background-color: #f0f8ff;}#sk-container-id-4 input.sk-toggleable__control:checked~div.sk-toggleable__content {max-height: 200px;max-width: 100%;overflow: auto;}#sk-container-id-4 input.sk-toggleable__control:checked~label.sk-toggleable__label-arrow:before {content: \"▾\";}#sk-container-id-4 div.sk-estimator input.sk-toggleable__control:checked~label.sk-toggleable__label {background-color: #d4ebff;}#sk-container-id-4 div.sk-label input.sk-toggleable__control:checked~label.sk-toggleable__label {background-color: #d4ebff;}#sk-container-id-4 input.sk-hidden--visually {border: 0;clip: rect(1px 1px 1px 1px);clip: rect(1px, 1px, 1px, 1px);height: 1px;margin: -1px;overflow: hidden;padding: 0;position: absolute;width: 1px;}#sk-container-id-4 div.sk-estimator {font-family: monospace;background-color: #f0f8ff;border: 1px dotted black;border-radius: 0.25em;box-sizing: border-box;margin-bottom: 0.5em;}#sk-container-id-4 div.sk-estimator:hover {background-color: #d4ebff;}#sk-container-id-4 div.sk-parallel-item::after {content: \"\";width: 100%;border-bottom: 1px solid gray;flex-grow: 1;}#sk-container-id-4 div.sk-label:hover label.sk-toggleable__label {background-color: #d4ebff;}#sk-container-id-4 div.sk-serial::before {content: \"\";position: absolute;border-left: 1px solid gray;box-sizing: border-box;top: 0;bottom: 0;left: 50%;z-index: 0;}#sk-container-id-4 div.sk-serial {display: flex;flex-direction: column;align-items: center;background-color: white;padding-right: 0.2em;padding-left: 0.2em;position: relative;}#sk-container-id-4 div.sk-item {position: relative;z-index: 1;}#sk-container-id-4 div.sk-parallel {display: flex;align-items: stretch;justify-content: center;background-color: white;position: relative;}#sk-container-id-4 div.sk-item::before, #sk-container-id-4 div.sk-parallel-item::before {content: \"\";position: absolute;border-left: 1px solid gray;box-sizing: border-box;top: 0;bottom: 0;left: 50%;z-index: -1;}#sk-container-id-4 div.sk-parallel-item {display: flex;flex-direction: column;z-index: 1;position: relative;background-color: white;}#sk-container-id-4 div.sk-parallel-item:first-child::after {align-self: flex-end;width: 50%;}#sk-container-id-4 div.sk-parallel-item:last-child::after {align-self: flex-start;width: 50%;}#sk-container-id-4 div.sk-parallel-item:only-child::after {width: 0;}#sk-container-id-4 div.sk-dashed-wrapped {border: 1px dashed gray;margin: 0 0.4em 0.5em 0.4em;box-sizing: border-box;padding-bottom: 0.4em;background-color: white;}#sk-container-id-4 div.sk-label label {font-family: monospace;font-weight: bold;display: inline-block;line-height: 1.2em;}#sk-container-id-4 div.sk-label-container {text-align: center;}#sk-container-id-4 div.sk-container {/* jupyter's `normalize.less` sets `[hidden] { display: none; }` but bootstrap.min.css set `[hidden] { display: none !important; }` so we also need the `!important` here to be able to override the default hidden behavior on the sphinx rendered scikit-learn.org. See: https://github.com/scikit-learn/scikit-learn/issues/21755 */display: inline-block !important;position: relative;}#sk-container-id-4 div.sk-text-repr-fallback {display: none;}</style><div id=\"sk-container-id-4\" class=\"sk-top-container\"><div class=\"sk-text-repr-fallback\"><pre>LogisticRegression(random_state=42)</pre><b>In a Jupyter environment, please rerun this cell to show the HTML representation or trust the notebook. <br />On GitHub, the HTML representation is unable to render, please try loading this page with nbviewer.org.</b></div><div class=\"sk-container\" hidden><div class=\"sk-item\"><div class=\"sk-estimator sk-toggleable\"><input class=\"sk-toggleable__control sk-hidden--visually\" id=\"sk-estimator-id-4\" type=\"checkbox\" checked><label for=\"sk-estimator-id-4\" class=\"sk-toggleable__label sk-toggleable__label-arrow\">LogisticRegression</label><div class=\"sk-toggleable__content\"><pre>LogisticRegression(random_state=42)</pre></div></div></div></div></div>"
     },
     "execution_count": 53,
     "metadata": {},
     "output_type": "execute_result"
    }
   ],
   "source": [
    "classifier.fit(X_train, y_train['Purchased'])"
   ]
  },
  {
   "cell_type": "markdown",
   "metadata": {},
   "source": [
    "#### Model's Parameters"
   ]
  },
  {
   "cell_type": "code",
   "execution_count": 54,
   "metadata": {
    "ExecuteTime": {
     "end_time": "2024-04-09T23:06:13.908149300Z",
     "start_time": "2024-04-09T23:06:13.884940900Z"
    }
   },
   "outputs": [
    {
     "data": {
      "text/plain": "array([0, 1], dtype=int64)"
     },
     "execution_count": 54,
     "metadata": {},
     "output_type": "execute_result"
    }
   ],
   "source": [
    "classifier.classes_"
   ]
  },
  {
   "cell_type": "code",
   "execution_count": 55,
   "metadata": {
    "ExecuteTime": {
     "end_time": "2024-04-09T23:06:50.728850600Z",
     "start_time": "2024-04-09T23:06:50.712069100Z"
    }
   },
   "outputs": [
    {
     "data": {
      "text/plain": "array([-7.32373534])"
     },
     "execution_count": 55,
     "metadata": {},
     "output_type": "execute_result"
    }
   ],
   "source": [
    "classifier.intercept_"
   ]
  },
  {
   "cell_type": "code",
   "outputs": [
    {
     "data": {
      "text/plain": "array([[0.17104582]])"
     },
     "execution_count": 56,
     "metadata": {},
     "output_type": "execute_result"
    }
   ],
   "source": [
    "classifier.coef_"
   ],
   "metadata": {
    "collapsed": false,
    "ExecuteTime": {
     "end_time": "2024-04-09T23:07:25.478916900Z",
     "start_time": "2024-04-09T23:07:25.462071900Z"
    }
   },
   "execution_count": 56
  },
  {
   "cell_type": "markdown",
   "metadata": {},
   "source": [
    "Portanto, os parâmetros aprendidos para nosso **modelo de regressão logística**, a partir do conjunto de treinamento utilizado, foi:\n",
    "\n",
    "$\\theta^T = [\\theta_0, \\theta_1] = [-7.32, 0.17]$\n",
    "\n",
    "<span style=\"font-size: 20pt\">\n",
    "$\n",
    "h_\\theta(x) = \\frac{1}{1 + e^{-\\theta^{T}*x}} = \\frac{1}{1 + e^{-(-7.32 + 0.17 * x_1)}}\n",
    "$\n",
    "</span>"
   ]
  },
  {
   "cell_type": "markdown",
   "metadata": {},
   "source": [
    "### 2.5. Visualizing the trained Model"
   ]
  },
  {
   "cell_type": "markdown",
   "metadata": {},
   "source": [
    "#### **Trained Model (Sigmoid)**"
   ]
  },
  {
   "cell_type": "code",
   "execution_count": 57,
   "metadata": {
    "ExecuteTime": {
     "end_time": "2024-04-09T23:09:17.085971100Z",
     "start_time": "2024-04-09T23:09:17.071957500Z"
    }
   },
   "outputs": [],
   "source": [
    "x_sig = X_train['Age']\n",
    "# prob. of the samples being classified as the positive class\n",
    "y_sig = classifier.predict_proba(X_train)[:, 1]"
   ]
  },
  {
   "cell_type": "markdown",
   "metadata": {},
   "source": [
    "#### **Decision boundary**"
   ]
  },
  {
   "cell_type": "markdown",
   "metadata": {},
   "source": [
    "Using a _single feature_, the **decision boundary** is a _vertical line_:\n",
    "\n",
    "<span style='font-size: 20pt'>\n",
    "$\\theta_0 + \\theta_1 * x_1 = 0$\n",
    "\n",
    "$x_1 = \\frac{-\\theta_0}{\\theta_1}$\n",
    "</span>"
   ]
  },
  {
   "cell_type": "code",
   "execution_count": 58,
   "metadata": {
    "ExecuteTime": {
     "end_time": "2024-04-09T23:09:33.403376900Z",
     "start_time": "2024-04-09T23:09:33.389883300Z"
    }
   },
   "outputs": [],
   "source": [
    "theta_0 = classifier.intercept_[0]\n",
    "theta_1 = classifier.coef_[0, 0]"
   ]
  },
  {
   "cell_type": "code",
   "execution_count": 59,
   "metadata": {
    "ExecuteTime": {
     "end_time": "2024-04-09T23:09:38.469175300Z",
     "start_time": "2024-04-09T23:09:38.456068900Z"
    }
   },
   "outputs": [
    {
     "data": {
      "text/plain": "42.81738968528534"
     },
     "execution_count": 59,
     "metadata": {},
     "output_type": "execute_result"
    }
   ],
   "source": [
    "decision_boundary = -theta_0 / theta_1\n",
    "decision_boundary"
   ]
  },
  {
   "cell_type": "markdown",
   "metadata": {},
   "source": [
    "The found _decision boundary_ is:\n",
    "    \n",
    "$x_1 = 42.81738968528535$"
   ]
  },
  {
   "cell_type": "markdown",
   "metadata": {},
   "source": [
    "#### **Putting it all together**"
   ]
  },
  {
   "cell_type": "code",
   "execution_count": 60,
   "metadata": {
    "ExecuteTime": {
     "end_time": "2024-04-09T23:09:50.129206600Z",
     "start_time": "2024-04-09T23:09:50.119060400Z"
    }
   },
   "outputs": [
    {
     "data": {
      "text/plain": "Index([  3,  18, 202, 250, 274,  63, 248, 301, 108,  90,\n       ...\n       214, 121, 399,  20, 188,  71, 106, 270, 348, 102],\n      dtype='int64', length=320)"
     },
     "execution_count": 60,
     "metadata": {},
     "output_type": "execute_result"
    }
   ],
   "source": [
    "train_indices = X_train.index\n",
    "train_indices"
   ]
  },
  {
   "cell_type": "code",
   "execution_count": 61,
   "metadata": {
    "ExecuteTime": {
     "end_time": "2024-04-09T23:09:57.184395100Z",
     "start_time": "2024-04-09T23:09:57.164710700Z"
    }
   },
   "outputs": [
    {
     "data": {
      "text/plain": "      User ID  Gender  Age  EstimatedSalary  Purchased\n3    15603246  Female   27            57000          0\n18   15704583    Male   46            28000          1\n202  15735549  Female   39           134000          1\n250  15810075  Female   44            39000          0\n274  15692819  Female   57            26000          1\n..        ...     ...  ...              ...        ...\n71   15726358  Female   24            27000          0\n106  15706185  Female   26            35000          0\n270  15680752  Female   43           133000          0\n348  15579212    Male   39            77000          0\n102  15584545  Female   32            86000          0\n\n[320 rows x 5 columns]",
      "text/html": "<div>\n<style scoped>\n    .dataframe tbody tr th:only-of-type {\n        vertical-align: middle;\n    }\n\n    .dataframe tbody tr th {\n        vertical-align: top;\n    }\n\n    .dataframe thead th {\n        text-align: right;\n    }\n</style>\n<table border=\"1\" class=\"dataframe\">\n  <thead>\n    <tr style=\"text-align: right;\">\n      <th></th>\n      <th>User ID</th>\n      <th>Gender</th>\n      <th>Age</th>\n      <th>EstimatedSalary</th>\n      <th>Purchased</th>\n    </tr>\n  </thead>\n  <tbody>\n    <tr>\n      <th>3</th>\n      <td>15603246</td>\n      <td>Female</td>\n      <td>27</td>\n      <td>57000</td>\n      <td>0</td>\n    </tr>\n    <tr>\n      <th>18</th>\n      <td>15704583</td>\n      <td>Male</td>\n      <td>46</td>\n      <td>28000</td>\n      <td>1</td>\n    </tr>\n    <tr>\n      <th>202</th>\n      <td>15735549</td>\n      <td>Female</td>\n      <td>39</td>\n      <td>134000</td>\n      <td>1</td>\n    </tr>\n    <tr>\n      <th>250</th>\n      <td>15810075</td>\n      <td>Female</td>\n      <td>44</td>\n      <td>39000</td>\n      <td>0</td>\n    </tr>\n    <tr>\n      <th>274</th>\n      <td>15692819</td>\n      <td>Female</td>\n      <td>57</td>\n      <td>26000</td>\n      <td>1</td>\n    </tr>\n    <tr>\n      <th>...</th>\n      <td>...</td>\n      <td>...</td>\n      <td>...</td>\n      <td>...</td>\n      <td>...</td>\n    </tr>\n    <tr>\n      <th>71</th>\n      <td>15726358</td>\n      <td>Female</td>\n      <td>24</td>\n      <td>27000</td>\n      <td>0</td>\n    </tr>\n    <tr>\n      <th>106</th>\n      <td>15706185</td>\n      <td>Female</td>\n      <td>26</td>\n      <td>35000</td>\n      <td>0</td>\n    </tr>\n    <tr>\n      <th>270</th>\n      <td>15680752</td>\n      <td>Female</td>\n      <td>43</td>\n      <td>133000</td>\n      <td>0</td>\n    </tr>\n    <tr>\n      <th>348</th>\n      <td>15579212</td>\n      <td>Male</td>\n      <td>39</td>\n      <td>77000</td>\n      <td>0</td>\n    </tr>\n    <tr>\n      <th>102</th>\n      <td>15584545</td>\n      <td>Female</td>\n      <td>32</td>\n      <td>86000</td>\n      <td>0</td>\n    </tr>\n  </tbody>\n</table>\n<p>320 rows × 5 columns</p>\n</div>"
     },
     "execution_count": 61,
     "metadata": {},
     "output_type": "execute_result"
    }
   ],
   "source": [
    "df_train = df.iloc[train_indices]\n",
    "df_train"
   ]
  },
  {
   "cell_type": "code",
   "execution_count": 62,
   "metadata": {
    "ExecuteTime": {
     "end_time": "2024-04-09T23:10:43.553285900Z",
     "start_time": "2024-04-09T23:10:42.556741600Z"
    }
   },
   "outputs": [
    {
     "name": "stderr",
     "output_type": "stream",
     "text": [
      "C:\\Users\\mfuini\\.conda\\envs\\Aula1\\Lib\\site-packages\\seaborn\\_oldcore.py:1119: FutureWarning: use_inf_as_na option is deprecated and will be removed in a future version. Convert inf values to NaN before operating instead.\n",
      "  with pd.option_context('mode.use_inf_as_na', True):\n",
      "C:\\Users\\mfuini\\.conda\\envs\\Aula1\\Lib\\site-packages\\seaborn\\_oldcore.py:1119: FutureWarning: use_inf_as_na option is deprecated and will be removed in a future version. Convert inf values to NaN before operating instead.\n",
      "  with pd.option_context('mode.use_inf_as_na', True):\n"
     ]
    },
    {
     "data": {
      "text/plain": "Text(0.5, 1.0, 'Logistic Regression - TRAIN')"
     },
     "execution_count": 62,
     "metadata": {},
     "output_type": "execute_result"
    },
    {
     "data": {
      "text/plain": "<Figure size 1600x800 with 1 Axes>",
      "image/png": "[encoded data removed]"
     },
     "metadata": {},
     "output_type": "display_data"
    }
   ],
   "source": [
    "plt.figure(figsize=(16,8))\n",
    "\n",
    "ax = sns.scatterplot(data=df_train, x='Age', y='Purchased', style='Purchased', hue='Purchased', s=100)\n",
    "sns.lineplot(x=x_sig, y=y_sig, color='red', ax=ax)\n",
    "plt.hlines(0.5, df_train['Age'].min(), decision_boundary, colors='gray', linestyles='--')\n",
    "plt.axvline(decision_boundary, color='green')\n",
    "\n",
    "x_ticks = np.append(ax.get_xticks(), decision_boundary)\n",
    "\n",
    "ax.set_xticks(x_ticks)\n",
    "plt.yticks(np.arange(0, 1.001, 0.1))\n",
    "plt.xlim(df_train['Age'].min(), df_train['Age'].max())\n",
    "plt.ylim(-0.01, 1.01)\n",
    "plt.title('Logistic Regression - TRAIN')\n",
    "# plt.legend(['learned model (sigmoid)', 'learned linear model', 'decision boundary'])"
   ]
  },
  {
   "cell_type": "markdown",
   "metadata": {
    "colab_type": "text",
    "id": "wa2T1Lq89o5H"
   },
   "source": [
    "## 3. Classification / Prediction"
   ]
  },
  {
   "cell_type": "code",
   "execution_count": 63,
   "metadata": {
    "ExecuteTime": {
     "end_time": "2024-04-09T23:14:02.191629200Z",
     "start_time": "2024-04-09T23:14:02.173888700Z"
    }
   },
   "outputs": [
    {
     "data": {
      "text/plain": "     Age\n209   46\n280   59\n33    28\n210   48\n93    29\n..   ...\n246   35\n227   56\n369   54\n176   35\n289   37\n\n[80 rows x 1 columns]",
      "text/html": "<div>\n<style scoped>\n    .dataframe tbody tr th:only-of-type {\n        vertical-align: middle;\n    }\n\n    .dataframe tbody tr th {\n        vertical-align: top;\n    }\n\n    .dataframe thead th {\n        text-align: right;\n    }\n</style>\n<table border=\"1\" class=\"dataframe\">\n  <thead>\n    <tr style=\"text-align: right;\">\n      <th></th>\n      <th>Age</th>\n    </tr>\n  </thead>\n  <tbody>\n    <tr>\n      <th>209</th>\n      <td>46</td>\n    </tr>\n    <tr>\n      <th>280</th>\n      <td>59</td>\n    </tr>\n    <tr>\n      <th>33</th>\n      <td>28</td>\n    </tr>\n    <tr>\n      <th>210</th>\n      <td>48</td>\n    </tr>\n    <tr>\n      <th>93</th>\n      <td>29</td>\n    </tr>\n    <tr>\n      <th>...</th>\n      <td>...</td>\n    </tr>\n    <tr>\n      <th>246</th>\n      <td>35</td>\n    </tr>\n    <tr>\n      <th>227</th>\n      <td>56</td>\n    </tr>\n    <tr>\n      <th>369</th>\n      <td>54</td>\n    </tr>\n    <tr>\n      <th>176</th>\n      <td>35</td>\n    </tr>\n    <tr>\n      <th>289</th>\n      <td>37</td>\n    </tr>\n  </tbody>\n</table>\n<p>80 rows × 1 columns</p>\n</div>"
     },
     "execution_count": 63,
     "metadata": {},
     "output_type": "execute_result"
    }
   ],
   "source": [
    "X_test"
   ]
  },
  {
   "cell_type": "code",
   "execution_count": 64,
   "metadata": {
    "ExecuteTime": {
     "end_time": "2024-04-09T23:14:18.540981400Z",
     "start_time": "2024-04-09T23:14:18.522058200Z"
    }
   },
   "outputs": [
    {
     "data": {
      "text/plain": "     Purchased\n209          0\n280          1\n33           0\n210          1\n93           0\n..         ...\n246          0\n227          1\n369          1\n176          0\n289          1\n\n[80 rows x 1 columns]",
      "text/html": "<div>\n<style scoped>\n    .dataframe tbody tr th:only-of-type {\n        vertical-align: middle;\n    }\n\n    .dataframe tbody tr th {\n        vertical-align: top;\n    }\n\n    .dataframe thead th {\n        text-align: right;\n    }\n</style>\n<table border=\"1\" class=\"dataframe\">\n  <thead>\n    <tr style=\"text-align: right;\">\n      <th></th>\n      <th>Purchased</th>\n    </tr>\n  </thead>\n  <tbody>\n    <tr>\n      <th>209</th>\n      <td>0</td>\n    </tr>\n    <tr>\n      <th>280</th>\n      <td>1</td>\n    </tr>\n    <tr>\n      <th>33</th>\n      <td>0</td>\n    </tr>\n    <tr>\n      <th>210</th>\n      <td>1</td>\n    </tr>\n    <tr>\n      <th>93</th>\n      <td>0</td>\n    </tr>\n    <tr>\n      <th>...</th>\n      <td>...</td>\n    </tr>\n    <tr>\n      <th>246</th>\n      <td>0</td>\n    </tr>\n    <tr>\n      <th>227</th>\n      <td>1</td>\n    </tr>\n    <tr>\n      <th>369</th>\n      <td>1</td>\n    </tr>\n    <tr>\n      <th>176</th>\n      <td>0</td>\n    </tr>\n    <tr>\n      <th>289</th>\n      <td>1</td>\n    </tr>\n  </tbody>\n</table>\n<p>80 rows × 1 columns</p>\n</div>"
     },
     "execution_count": 64,
     "metadata": {},
     "output_type": "execute_result"
    }
   ],
   "source": [
    "y_test #Rótulo/true labels/true class/ground-truth"
   ]
  },
  {
   "cell_type": "code",
   "execution_count": 65,
   "metadata": {
    "ExecuteTime": {
     "end_time": "2024-04-09T23:16:50.153141100Z",
     "start_time": "2024-04-09T23:16:50.130779700Z"
    }
   },
   "outputs": [
    {
     "data": {
      "text/plain": "array([1, 1, 0, 1, 0, 0, 1, 0, 0, 0, 0, 1, 0, 0, 0, 0, 1, 1, 0, 1, 0, 0,\n       1, 1, 0, 1, 0, 0, 1, 0, 1, 0, 0, 0, 0, 0, 0, 0, 0, 0, 1, 0, 0, 1,\n       0, 1, 0, 0, 1, 0, 0, 1, 0, 0, 0, 0, 1, 0, 0, 0, 0, 0, 1, 0, 0, 0,\n       0, 1, 0, 0, 1, 0, 0, 0, 1, 0, 1, 1, 0, 0], dtype=int64)"
     },
     "execution_count": 65,
     "metadata": {},
     "output_type": "execute_result"
    }
   ],
   "source": [
    "y_pred=classifier.predict(X_test)\n",
    "y_pred"
   ]
  },
  {
   "cell_type": "code",
   "execution_count": 66,
   "metadata": {
    "ExecuteTime": {
     "end_time": "2024-04-09T23:17:59.715125Z",
     "start_time": "2024-04-09T23:17:59.699454100Z"
    }
   },
   "outputs": [
    {
     "data": {
      "text/plain": "(80, 2)"
     },
     "execution_count": 66,
     "metadata": {},
     "output_type": "execute_result"
    }
   ],
   "source": [
    "y_pred_proba=classifier.predict_proba(X_test)\n",
    "y_pred_proba.shape"
   ]
  },
  {
   "cell_type": "code",
   "execution_count": 67,
   "metadata": {
    "ExecuteTime": {
     "end_time": "2024-04-09T23:18:10.342005500Z",
     "start_time": "2024-04-09T23:18:10.312488100Z"
    }
   },
   "outputs": [
    {
     "data": {
      "text/plain": "array([[0.36717109, 0.63282891],\n       [0.05907988, 0.94092012],\n       [0.92652205, 0.07347795],\n       [0.29184011, 0.70815989],\n       [0.91399398, 0.08600602],\n       [0.89956141, 0.10043859],\n       [0.32840277, 0.67159723],\n       [0.91399398, 0.08600602],\n       [0.61819707, 0.38180293],\n       [0.53489595, 0.46510405],\n       [0.79201787, 0.20798213],\n       [0.14909803, 0.85090197],\n       [0.9673805 , 0.0326195 ],\n       [0.98021444, 0.01978556],\n       [0.89956141, 0.10043859],\n       [0.79201787, 0.20798213],\n       [0.17212417, 0.82787583],\n       [0.36717109, 0.63282891],\n       [0.6576746 , 0.3423254 ],\n       [0.09493362, 0.90506638],\n       [0.97236713, 0.02763287],\n       [0.91399398, 0.08600602],\n       [0.32840277, 0.67159723],\n       [0.05907988, 0.94092012],\n       [0.98327304, 0.01672696],\n       [0.19787939, 0.80212061],\n       [0.53489595, 0.46510405],\n       [0.7300823 , 0.2699177 ],\n       [0.1106829 , 0.8893171 ],\n       [0.98327304, 0.01672696],\n       [0.36717109, 0.63282891],\n       [0.98327304, 0.01672696],\n       [0.76243681, 0.23756319],\n       [0.92652205, 0.07347795],\n       [0.61819707, 0.38180293],\n       [0.79201787, 0.20798213],\n       [0.7300823 , 0.2699177 ],\n       [0.69508357, 0.30491643],\n       [0.94667467, 0.05332533],\n       [0.98586563, 0.01413437],\n       [0.29184011, 0.70815989],\n       [0.96152958, 0.03847042],\n       [0.98586563, 0.01413437],\n       [0.32840277, 0.67159723],\n       [0.98021444, 0.01978556],\n       [0.44960159, 0.55039841],\n       [0.91399398, 0.08600602],\n       [0.88301692, 0.11698308],\n       [0.29184011, 0.70815989],\n       [0.81879097, 0.18120903],\n       [0.95467836, 0.04532164],\n       [0.14909803, 0.85090197],\n       [0.69508357, 0.30491643],\n       [0.95467836, 0.04532164],\n       [0.7300823 , 0.2699177 ],\n       [0.93735031, 0.06264969],\n       [0.05025834, 0.94974166],\n       [0.94667467, 0.05332533],\n       [0.88301692, 0.11698308],\n       [0.88301692, 0.11698308],\n       [0.57709441, 0.42290559],\n       [0.79201787, 0.20798213],\n       [0.17212417, 0.82787583],\n       [0.92652205, 0.07347795],\n       [0.92652205, 0.07347795],\n       [0.93735031, 0.06264969],\n       [0.53489595, 0.46510405],\n       [0.32840277, 0.67159723],\n       [0.6576746 , 0.3423254 ],\n       [0.84280167, 0.15719833],\n       [0.17212417, 0.82787583],\n       [0.98327304, 0.01672696],\n       [0.93735031, 0.06264969],\n       [0.9673805 , 0.0326195 ],\n       [0.32840277, 0.67159723],\n       [0.79201787, 0.20798213],\n       [0.09493362, 0.90506638],\n       [0.12867349, 0.87132651],\n       [0.79201787, 0.20798213],\n       [0.7300823 , 0.2699177 ]])"
     },
     "execution_count": 67,
     "metadata": {},
     "output_type": "execute_result"
    }
   ],
   "source": [
    "y_pred_proba"
   ]
  },
  {
   "cell_type": "code",
   "execution_count": 68,
   "metadata": {
    "ExecuteTime": {
     "end_time": "2024-04-09T23:20:13.893885900Z",
     "start_time": "2024-04-09T23:20:13.872987100Z"
    }
   },
   "outputs": [
    {
     "data": {
      "text/plain": "array([0.63282891, 0.94092012, 0.07347795, 0.70815989, 0.08600602,\n       0.10043859, 0.67159723, 0.08600602, 0.38180293, 0.46510405,\n       0.20798213, 0.85090197, 0.0326195 , 0.01978556, 0.10043859,\n       0.20798213, 0.82787583, 0.63282891, 0.3423254 , 0.90506638,\n       0.02763287, 0.08600602, 0.67159723, 0.94092012, 0.01672696,\n       0.80212061, 0.46510405, 0.2699177 , 0.8893171 , 0.01672696,\n       0.63282891, 0.01672696, 0.23756319, 0.07347795, 0.38180293,\n       0.20798213, 0.2699177 , 0.30491643, 0.05332533, 0.01413437,\n       0.70815989, 0.03847042, 0.01413437, 0.67159723, 0.01978556,\n       0.55039841, 0.08600602, 0.11698308, 0.70815989, 0.18120903,\n       0.04532164, 0.85090197, 0.30491643, 0.04532164, 0.2699177 ,\n       0.06264969, 0.94974166, 0.05332533, 0.11698308, 0.11698308,\n       0.42290559, 0.20798213, 0.82787583, 0.07347795, 0.07347795,\n       0.06264969, 0.46510405, 0.67159723, 0.3423254 , 0.15719833,\n       0.82787583, 0.01672696, 0.06264969, 0.0326195 , 0.67159723,\n       0.20798213, 0.90506638, 0.87132651, 0.20798213, 0.2699177 ])"
     },
     "execution_count": 68,
     "metadata": {},
     "output_type": "execute_result"
    }
   ],
   "source": []
  },
  {
   "cell_type": "code",
   "execution_count": null,
   "metadata": {},
   "outputs": [],
   "source": []
  },
  {
   "cell_type": "markdown",
   "metadata": {
    "colab_type": "text",
    "id": "-zSoMZ-P9v8t"
   },
   "source": [
    "## 4. Evaluation Metrics\n",
    "We will use just a few metrics for simplificity. A complete overview about evaluation metrics for classification will be seen in the future. "
   ]
  },
  {
   "cell_type": "markdown",
   "metadata": {},
   "source": [
    "### 4.1. Confusion Matrix"
   ]
  },
  {
   "cell_type": "markdown",
   "metadata": {},
   "source": [
    "<img src='imgs/confusion_matrix.png' width=250px/>"
   ]
  },
  {
   "cell_type": "code",
   "execution_count": 70,
   "metadata": {
    "ExecuteTime": {
     "end_time": "2024-04-09T23:26:52.129949100Z",
     "start_time": "2024-04-09T23:26:52.120891400Z"
    }
   },
   "outputs": [],
   "source": [
    "from sklearn.metrics import confusion_matrix"
   ]
  },
  {
   "cell_type": "code",
   "execution_count": 74,
   "metadata": {
    "ExecuteTime": {
     "end_time": "2024-04-09T23:28:35.954315300Z",
     "start_time": "2024-04-09T23:28:35.932581800Z"
    }
   },
   "outputs": [],
   "source": [
    "conf_matrix = confusion_matrix(y_test, y_pred)\n",
    "tn, fp, fn, tp = conf_matrix.ravel()"
   ]
  },
  {
   "cell_type": "code",
   "outputs": [],
   "source": [],
   "metadata": {
    "collapsed": false
   }
  },
  {
   "cell_type": "code",
   "execution_count": 75,
   "metadata": {
    "ExecuteTime": {
     "end_time": "2024-04-09T23:28:48.962945600Z",
     "start_time": "2024-04-09T23:28:48.942445200Z"
    }
   },
   "outputs": [
    {
     "data": {
      "text/plain": "                       Pred Label – Negative  Pred Label – Positive\nTrue Label – Negative                     50                      2\nTrue Label – Positive                      5                     23",
      "text/html": "<div>\n<style scoped>\n    .dataframe tbody tr th:only-of-type {\n        vertical-align: middle;\n    }\n\n    .dataframe tbody tr th {\n        vertical-align: top;\n    }\n\n    .dataframe thead th {\n        text-align: right;\n    }\n</style>\n<table border=\"1\" class=\"dataframe\">\n  <thead>\n    <tr style=\"text-align: right;\">\n      <th></th>\n      <th>Pred Label – Negative</th>\n      <th>Pred Label – Positive</th>\n    </tr>\n  </thead>\n  <tbody>\n    <tr>\n      <th>True Label – Negative</th>\n      <td>50</td>\n      <td>2</td>\n    </tr>\n    <tr>\n      <th>True Label – Positive</th>\n      <td>5</td>\n      <td>23</td>\n    </tr>\n  </tbody>\n</table>\n</div>"
     },
     "execution_count": 75,
     "metadata": {},
     "output_type": "execute_result"
    }
   ],
   "source": [
    "conf_matrix_df = pd.DataFrame({\n",
    "    'Pred Label – Negative': [tn, fn],\n",
    "    'Pred Label – Positive': [fp, tp]\n",
    "}, index=['True Label – Negative', 'True Label – Positive'])\n",
    "\n",
    "conf_matrix_df"
   ]
  },
  {
   "cell_type": "code",
   "outputs": [
    {
     "data": {
      "text/plain": "<sklearn.metrics._plot.confusion_matrix.ConfusionMatrixDisplay at 0x1edde1513d0>"
     },
     "execution_count": 84,
     "metadata": {},
     "output_type": "execute_result"
    },
    {
     "data": {
      "text/plain": "<Figure size 1500x500 with 2 Axes>",
      "image/png": "[encoded data removed]"
     },
     "metadata": {},
     "output_type": "display_data"
    },
    {
     "data": {
      "text/plain": "<Figure size 1500x500 with 2 Axes>",
      "image/png": "[encoded data removed]"
     },
     "metadata": {},
     "output_type": "display_data"
    }
   ],
   "source": [
    "from sklearn.metrics import ConfusionMatrixDisplay\n",
    "disp = ConfusionMatrixDisplay.from_estimator(classifier,X_test, y_test, cmap='inferno')\n",
    "disp.plot()\n"
   ],
   "metadata": {
    "collapsed": false,
    "ExecuteTime": {
     "end_time": "2024-04-09T23:37:26.866261900Z",
     "start_time": "2024-04-09T23:37:26.510713Z"
    }
   },
   "execution_count": 84
  },
  {
   "cell_type": "markdown",
   "metadata": {},
   "source": [
    "### 4.2. Precision"
   ]
  },
  {
   "cell_type": "markdown",
   "metadata": {},
   "source": [
    "What is the **proportion** of **_true_ positives** among _all_ instances _classified_ (_correctly_ and _incorrectly_) as **_positives_**? <br/>\n",
    "**How precise** is the **_positive_** classification?\n",
    "\n",
    "_“From all patients classified as **cancer**, how many (**proportion**) actually had **cancer**?”_"
   ]
  },
  {
   "cell_type": "markdown",
   "metadata": {},
   "source": [
    "<span style=\"font-size: 16pt\">\n",
    "$\n",
    "precision = \\frac{TP}{TP + FP}\n",
    "$\n",
    "</span>"
   ]
  },
  {
   "cell_type": "code",
   "execution_count": 85,
   "metadata": {
    "ExecuteTime": {
     "end_time": "2024-04-10T00:06:09.746240500Z",
     "start_time": "2024-04-10T00:06:09.723416300Z"
    }
   },
   "outputs": [],
   "source": [
    "precision = tp / (tp+fp)"
   ]
  },
  {
   "cell_type": "code",
   "execution_count": 86,
   "metadata": {
    "ExecuteTime": {
     "end_time": "2024-04-10T00:06:11.620087600Z",
     "start_time": "2024-04-10T00:06:11.606754500Z"
    }
   },
   "outputs": [
    {
     "name": "stdout",
     "output_type": "stream",
     "text": [
      "Precision: 0.92\n"
     ]
    }
   ],
   "source": [
    "print(f'Precision: {precision}')"
   ]
  },
  {
   "cell_type": "markdown",
   "metadata": {},
   "source": [
    "#### Alternatively\n",
    "https://scikit-learn.org/stable/modules/generated/sklearn.metrics.precision_score.html <br/>\n",
    "By default, the label of the positive class is 1"
   ]
  },
  {
   "cell_type": "code",
   "execution_count": 87,
   "metadata": {
    "ExecuteTime": {
     "end_time": "2024-04-10T00:07:57.163077300Z",
     "start_time": "2024-04-10T00:07:57.127496900Z"
    }
   },
   "outputs": [
    {
     "data": {
      "text/plain": "0.92"
     },
     "execution_count": 87,
     "metadata": {},
     "output_type": "execute_result"
    }
   ],
   "source": [
    "from sklearn.metrics import precision_score\n",
    "precision_sk = precision_score(y_test,y_pred)\n"
   ]
  },
  {
   "cell_type": "code",
   "execution_count": 88,
   "metadata": {
    "ExecuteTime": {
     "end_time": "2024-04-10T00:08:06.329187700Z",
     "start_time": "2024-04-10T00:08:06.299246200Z"
    }
   },
   "outputs": [
    {
     "name": "stdout",
     "output_type": "stream",
     "text": [
      "Precision: 0.92\n"
     ]
    }
   ],
   "source": [
    "print(f'Precision: {precision_sk}')"
   ]
  },
  {
   "cell_type": "markdown",
   "metadata": {},
   "source": [
    "### 4.3. Recall / Sensitivity / True Positive Rate\n",
    "What is the **proportion** of ***positives*** that were _correctly classified_ as ***positives***?\n",
    "\n",
    "_What is the **proportion** of patients with **cancer** that were **correctly identified**? <br/>\n",
    "**How sensitive** is the classifier to **correctly identify** patients with **cancer**?_"
   ]
  },
  {
   "cell_type": "markdown",
   "metadata": {},
   "source": [
    "<span style=\"font-size: 16pt\">\n",
    "$\n",
    "recall = \\frac{TP}{FN+TP}\n",
    "$\n",
    "</span>"
   ]
  },
  {
   "cell_type": "code",
   "execution_count": 89,
   "metadata": {
    "ExecuteTime": {
     "end_time": "2024-04-10T00:11:03.599963700Z",
     "start_time": "2024-04-10T00:11:03.562609900Z"
    }
   },
   "outputs": [],
   "source": [
    "recall = tp/(tp+fn)"
   ]
  },
  {
   "cell_type": "code",
   "execution_count": 90,
   "metadata": {
    "ExecuteTime": {
     "end_time": "2024-04-10T00:11:04.977237800Z",
     "start_time": "2024-04-10T00:11:04.966995900Z"
    }
   },
   "outputs": [
    {
     "name": "stdout",
     "output_type": "stream",
     "text": [
      "Recall: 0.8214285714285714\n"
     ]
    }
   ],
   "source": [
    "print(f'Recall: {recall}')\n",
    "#O modelo identificou 82% dos pacientes diabéticos como diabéticos."
   ]
  },
  {
   "cell_type": "markdown",
   "metadata": {},
   "source": [
    "#### Alternatively\n",
    "https://scikit-learn.org/stable/modules/generated/sklearn.metrics.recall_score.html <br/>\n",
    "By default, the label of the positive class is 1"
   ]
  },
  {
   "cell_type": "code",
   "execution_count": 91,
   "metadata": {
    "ExecuteTime": {
     "end_time": "2024-04-10T00:12:14.703355100Z",
     "start_time": "2024-04-10T00:12:14.678365100Z"
    }
   },
   "outputs": [],
   "source": [
    "from sklearn.metrics import recall_score\n",
    "recall_sk = recall_score(y_test,y_pred)"
   ]
  },
  {
   "cell_type": "code",
   "execution_count": 92,
   "metadata": {
    "ExecuteTime": {
     "end_time": "2024-04-10T00:12:16.930095700Z",
     "start_time": "2024-04-10T00:12:16.919322900Z"
    }
   },
   "outputs": [
    {
     "name": "stdout",
     "output_type": "stream",
     "text": [
      "Recall: 0.8214285714285714\n"
     ]
    }
   ],
   "source": [
    "print(f'Recall: {recall_sk}')"
   ]
  },
  {
   "cell_type": "markdown",
   "metadata": {},
   "source": [
    "### 4.4. Accuracy\n",
    "What was the (overall) **classification hit rate**?\n",
    "\n",
    "<span style=\"font-size: 16pt\">\n",
    "$\n",
    "accuracy = \\frac{TP + TN}{TN + FN + FP + TP}\n",
    "$\n",
    "</span>"
   ]
  },
  {
   "cell_type": "code",
   "execution_count": 93,
   "metadata": {
    "ExecuteTime": {
     "end_time": "2024-04-10T00:14:03.760903700Z",
     "start_time": "2024-04-10T00:14:03.737075300Z"
    }
   },
   "outputs": [],
   "source": [
    "accuracy = (tp+tn)/(tp+tn+fn+fp)"
   ]
  },
  {
   "cell_type": "code",
   "execution_count": 94,
   "metadata": {
    "ExecuteTime": {
     "end_time": "2024-04-10T00:14:04.714545Z",
     "start_time": "2024-04-10T00:14:04.688712700Z"
    }
   },
   "outputs": [
    {
     "name": "stdout",
     "output_type": "stream",
     "text": [
      "Accuracy: 0.9125\n"
     ]
    }
   ],
   "source": [
    "print(f'Accuracy: {accuracy}')"
   ]
  },
  {
   "cell_type": "markdown",
   "metadata": {},
   "source": [
    "#### Alternatively\n",
    "https://scikit-learn.org/stable/modules/generated/sklearn.metrics.accuracy_score.html"
   ]
  },
  {
   "cell_type": "code",
   "execution_count": 95,
   "metadata": {
    "ExecuteTime": {
     "end_time": "2024-04-10T00:14:32.377838100Z",
     "start_time": "2024-04-10T00:14:32.348205Z"
    }
   },
   "outputs": [],
   "source": [
    "from sklearn.metrics import accuracy_score\n",
    "accuracy_sk = accuracy_score(y_test,y_pred)"
   ]
  },
  {
   "cell_type": "code",
   "execution_count": 96,
   "metadata": {
    "ExecuteTime": {
     "end_time": "2024-04-10T00:14:33.852919500Z",
     "start_time": "2024-04-10T00:14:33.847085200Z"
    }
   },
   "outputs": [
    {
     "name": "stdout",
     "output_type": "stream",
     "text": [
      "Accuracy: 0.9125\n"
     ]
    }
   ],
   "source": [
    "print(f'Accuracy: {accuracy_sk}')"
   ]
  },
  {
   "cell_type": "markdown",
   "metadata": {},
   "source": [
    "#### Problems:\n",
    "Issue with **biased dataset (class imbalance)**: Easy to ***cheat** the score:\n",
    "- Consider that _only_ 1% of the samples are ***positives***\n",
    "- Guess everything as ***negative***\n",
    "- Achieve 99% accuracy\n",
    "\n",
    "**Solutions:** Balanced Accuracy or F1-Score"
   ]
  },
  {
   "cell_type": "markdown",
   "metadata": {},
   "source": [
    "### 4.5. F1-Score\n",
    "How **good** (_precision_) and **complete** (_sensitive_) are the _predictions_?\n",
    "\n",
    "It is the _harmonic mean_ of the _precision_ and _recall_. <br/>\n",
    "The **highest possible value** is **1.0**, indicating _perfect precision_ and recall_; <br/>\n",
    "The **lowest possible value** is 0, if either the _precision_ or the _recall_ is **zero**.\n",
    "\n",
    "<span style=\"font-size: 16pt\">\n",
    "$\n",
    "F1 = 2 * \\frac{precision \\space * \\space recall}{precision \\space + \\space recall}\n",
    "$\n",
    "</span>"
   ]
  },
  {
   "cell_type": "code",
   "execution_count": 97,
   "metadata": {
    "ExecuteTime": {
     "end_time": "2024-04-10T00:20:54.887199200Z",
     "start_time": "2024-04-10T00:20:54.864217600Z"
    }
   },
   "outputs": [],
   "source": [
    "f1 = 2* (precision*recall)/(precision+recall)"
   ]
  },
  {
   "cell_type": "code",
   "execution_count": 98,
   "metadata": {
    "ExecuteTime": {
     "end_time": "2024-04-10T00:20:56.930419900Z",
     "start_time": "2024-04-10T00:20:56.916878800Z"
    }
   },
   "outputs": [
    {
     "name": "stdout",
     "output_type": "stream",
     "text": [
      "F1 Score: 0.8679245283018867\n"
     ]
    }
   ],
   "source": [
    "print(f'F1 Score: {f1}')"
   ]
  },
  {
   "cell_type": "markdown",
   "metadata": {},
   "source": [
    "#### Alternatively\n",
    "https://scikit-learn.org/stable/modules/generated/sklearn.metrics.f1_score.html"
   ]
  },
  {
   "cell_type": "code",
   "execution_count": 99,
   "metadata": {
    "ExecuteTime": {
     "end_time": "2024-04-10T00:21:36.524674500Z",
     "start_time": "2024-04-10T00:21:36.505874Z"
    }
   },
   "outputs": [],
   "source": [
    "from sklearn.metrics import f1_score\n",
    "f1_sk=f1_score(y_test,y_pred)"
   ]
  },
  {
   "cell_type": "code",
   "execution_count": 100,
   "metadata": {
    "ExecuteTime": {
     "end_time": "2024-04-10T00:21:37.807056400Z",
     "start_time": "2024-04-10T00:21:37.794194400Z"
    }
   },
   "outputs": [
    {
     "name": "stdout",
     "output_type": "stream",
     "text": [
      "F1 Score: 0.8679245283018867\n"
     ]
    }
   ],
   "source": [
    "print(f'F1 Score: {f1_sk}')"
   ]
  },
  {
   "cell_type": "markdown",
   "metadata": {},
   "source": [
    "### 4.6. Classification Report\n",
    "https://scikit-learn.org/stable/modules/generated/sklearn.metrics.classification_report.html"
   ]
  },
  {
   "cell_type": "code",
   "execution_count": 103,
   "metadata": {
    "ExecuteTime": {
     "end_time": "2024-04-10T00:24:10.497122200Z",
     "start_time": "2024-04-10T00:24:10.474645Z"
    }
   },
   "outputs": [
    {
     "name": "stdout",
     "output_type": "stream",
     "text": [
      "               precision    recall  f1-score   support\n",
      "\n",
      "Not purchased     0.9091    0.9615    0.9346        52\n",
      "    Purchased     0.9200    0.8214    0.8679        28\n",
      "\n",
      "     accuracy                         0.9125        80\n",
      "    macro avg     0.9145    0.8915    0.9013        80\n",
      " weighted avg     0.9129    0.9125    0.9113        80\n"
     ]
    }
   ],
   "source": [
    "from sklearn.metrics import classification_report\n",
    "print(classification_report(y_test,y_pred,digits=4, target_names=['Not purchased', 'Purchased']))"
   ]
  },
  {
   "cell_type": "markdown",
   "metadata": {},
   "source": [
    "## 5. Visualizing the Predictions"
   ]
  },
  {
   "cell_type": "code",
   "execution_count": 104,
   "metadata": {
    "ExecuteTime": {
     "end_time": "2024-04-10T00:25:53.820047900Z",
     "start_time": "2024-04-10T00:25:53.786233900Z"
    }
   },
   "outputs": [
    {
     "data": {
      "text/plain": "Index([209, 280,  33, 210,  93,  84, 329,  94, 266, 126,   9, 361,  56,  72,\n       132,  42, 278, 376, 231, 385,  77,  15, 391, 271,   0, 396, 114, 225,\n       262, 104, 395, 193, 261,  57, 232, 116, 113, 342, 158, 141, 381,  55,\n        76,  25,  82, 382, 148, 181,  22, 173,  46, 321, 338,  70, 374,  39,\n       223, 172,  30, 152, 124, 294, 255,  78, 101,  31, 352, 268, 394,  73,\n       320, 140,   5,  45, 388, 246, 227, 369, 176, 289],\n      dtype='int64')"
     },
     "execution_count": 104,
     "metadata": {},
     "output_type": "execute_result"
    }
   ],
   "source": [
    "test_indices = X_test.index\n",
    "test_indices"
   ]
  },
  {
   "cell_type": "code",
   "execution_count": 105,
   "metadata": {
    "ExecuteTime": {
     "end_time": "2024-04-10T00:26:00.892122800Z",
     "start_time": "2024-04-10T00:26:00.840097900Z"
    }
   },
   "outputs": [
    {
     "data": {
      "text/plain": "      User ID  Gender  Age  EstimatedSalary  Purchased\n209  15697424  Female   46            22000          0\n280  15609669  Female   59            88000          1\n33   15776733  Female   28            44000          0\n210  15724536  Female   48            96000          1\n93   15699284  Female   29            28000          0\n..        ...     ...  ...              ...        ...\n246  15638003  Female   35            50000          0\n227  15685346    Male   56           133000          1\n369  15624755  Female   54            26000          1\n176  15609653  Female   35            47000          0\n289  15713912  Female   37            78000          1\n\n[80 rows x 5 columns]",
      "text/html": "<div>\n<style scoped>\n    .dataframe tbody tr th:only-of-type {\n        vertical-align: middle;\n    }\n\n    .dataframe tbody tr th {\n        vertical-align: top;\n    }\n\n    .dataframe thead th {\n        text-align: right;\n    }\n</style>\n<table border=\"1\" class=\"dataframe\">\n  <thead>\n    <tr style=\"text-align: right;\">\n      <th></th>\n      <th>User ID</th>\n      <th>Gender</th>\n      <th>Age</th>\n      <th>EstimatedSalary</th>\n      <th>Purchased</th>\n    </tr>\n  </thead>\n  <tbody>\n    <tr>\n      <th>209</th>\n      <td>15697424</td>\n      <td>Female</td>\n      <td>46</td>\n      <td>22000</td>\n      <td>0</td>\n    </tr>\n    <tr>\n      <th>280</th>\n      <td>15609669</td>\n      <td>Female</td>\n      <td>59</td>\n      <td>88000</td>\n      <td>1</td>\n    </tr>\n    <tr>\n      <th>33</th>\n      <td>15776733</td>\n      <td>Female</td>\n      <td>28</td>\n      <td>44000</td>\n      <td>0</td>\n    </tr>\n    <tr>\n      <th>210</th>\n      <td>15724536</td>\n      <td>Female</td>\n      <td>48</td>\n      <td>96000</td>\n      <td>1</td>\n    </tr>\n    <tr>\n      <th>93</th>\n      <td>15699284</td>\n      <td>Female</td>\n      <td>29</td>\n      <td>28000</td>\n      <td>0</td>\n    </tr>\n    <tr>\n      <th>...</th>\n      <td>...</td>\n      <td>...</td>\n      <td>...</td>\n      <td>...</td>\n      <td>...</td>\n    </tr>\n    <tr>\n      <th>246</th>\n      <td>15638003</td>\n      <td>Female</td>\n      <td>35</td>\n      <td>50000</td>\n      <td>0</td>\n    </tr>\n    <tr>\n      <th>227</th>\n      <td>15685346</td>\n      <td>Male</td>\n      <td>56</td>\n      <td>133000</td>\n      <td>1</td>\n    </tr>\n    <tr>\n      <th>369</th>\n      <td>15624755</td>\n      <td>Female</td>\n      <td>54</td>\n      <td>26000</td>\n      <td>1</td>\n    </tr>\n    <tr>\n      <th>176</th>\n      <td>15609653</td>\n      <td>Female</td>\n      <td>35</td>\n      <td>47000</td>\n      <td>0</td>\n    </tr>\n    <tr>\n      <th>289</th>\n      <td>15713912</td>\n      <td>Female</td>\n      <td>37</td>\n      <td>78000</td>\n      <td>1</td>\n    </tr>\n  </tbody>\n</table>\n<p>80 rows × 5 columns</p>\n</div>"
     },
     "execution_count": 105,
     "metadata": {},
     "output_type": "execute_result"
    }
   ],
   "source": [
    "df_test = df.iloc[test_indices]\n",
    "df_test"
   ]
  },
  {
   "cell_type": "code",
   "execution_count": 106,
   "metadata": {
    "ExecuteTime": {
     "end_time": "2024-04-10T00:26:07.699555200Z",
     "start_time": "2024-04-10T00:26:06.693766700Z"
    }
   },
   "outputs": [
    {
     "name": "stderr",
     "output_type": "stream",
     "text": [
      "C:\\Users\\mfuini\\.conda\\envs\\Aula1\\Lib\\site-packages\\seaborn\\_oldcore.py:1119: FutureWarning: use_inf_as_na option is deprecated and will be removed in a future version. Convert inf values to NaN before operating instead.\n",
      "  with pd.option_context('mode.use_inf_as_na', True):\n",
      "C:\\Users\\mfuini\\.conda\\envs\\Aula1\\Lib\\site-packages\\seaborn\\_oldcore.py:1119: FutureWarning: use_inf_as_na option is deprecated and will be removed in a future version. Convert inf values to NaN before operating instead.\n",
      "  with pd.option_context('mode.use_inf_as_na', True):\n"
     ]
    },
    {
     "data": {
      "text/plain": "Text(0.5, 1.0, 'Logistic Regression - TEST')"
     },
     "execution_count": 106,
     "metadata": {},
     "output_type": "execute_result"
    },
    {
     "data": {
      "text/plain": "<Figure size 1600x800 with 1 Axes>",
      "image/png": "[encoded data removed]"
     },
     "metadata": {},
     "output_type": "display_data"
    }
   ],
   "source": [
    "plt.figure(figsize=(16,8))\n",
    "\n",
    "ax = sns.scatterplot(data=df_test, x='Age', y='Purchased', style='Purchased', hue='Purchased', s=100)\n",
    "sns.lineplot(x=x_sig, y=y_sig, color='red', ax=ax)\n",
    "plt.hlines(0.5, X_test['Age'].min(), decision_boundary, colors='gray', linestyles='--')\n",
    "plt.axvline(decision_boundary, color='green')\n",
    "\n",
    "x_ticks = np.append(ax.get_xticks(), decision_boundary)\n",
    "\n",
    "ax.set_xticks(x_ticks)\n",
    "plt.yticks(np.arange(0, 1.001, 0.1))\n",
    "plt.xlim(df_test['Age'].min(), df_test['Age'].max())\n",
    "plt.ylim(-0.01, 1.01)\n",
    "plt.title('Logistic Regression - TEST')"
   ]
  },
  {
   "cell_type": "code",
   "execution_count": null,
   "metadata": {},
   "outputs": [],
   "source": []
  }
 ],
 "metadata": {
  "colab": {
   "authorship_tag": "ABX9TyP1VVwrQU8S68bmX5lftYWC",
   "name": "Simple Linear Regression",
   "provenance": [],
   "toc_visible": true
  },
  "kernelspec": {
   "display_name": "Python 3",
   "language": "python",
   "name": "python3"
  },
  "language_info": {
   "codemirror_mode": {
    "name": "ipython",
    "version": 3
   },
   "file_extension": ".py",
   "mimetype": "text/x-python",
   "name": "python",
   "nbconvert_exporter": "python",
   "pygments_lexer": "ipython3",
   "version": "3.9.5"
  }
 },
 "nbformat": 4,
 "nbformat_minor": 4
}
