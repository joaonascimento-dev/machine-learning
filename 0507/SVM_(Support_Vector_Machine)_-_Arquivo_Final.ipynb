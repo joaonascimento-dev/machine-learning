{
 "cells": [
  {
   "cell_type": "markdown",
   "metadata": {},
   "source": [
    "# O SVM (Support Vector Machine)\n",
    "- Utilizando o dataset iris, podemos utilizar apenas a coluna petal width (cm) e visualizar a seguinte classificação dos dados:\n",
    "<img src=\"https://drive.google.com/uc?id=1uEDHjpB-etkcNadcNYbBZqZeOBrIhCLi\" style='width: 600px;' />\n",
    "<br>\n",
    "- Se tivermos um novo ponto, como o mostrado em vermelho, automaticamente já vamos pensar que esse ponto possui a mesma classe dos pontos em roxo:\n",
    "<img src=\"https://drive.google.com/uc?id=1iYYZoHp4B9Suh6sI2H7G6G2WI6M-RKFP\" style='width: 600px;' />\n",
    "<br>\n",
    "- Da mesma forma, tendemos a pensar que esse novo ponto deve ser classificado como amarelo:\n",
    "<img src=\"https://drive.google.com/uc?id=1dfMuwPa6-r7CW9btaWnkHn3hVEDykKw6\" style='width: 600px;' />\n",
    "<br>\n",
    "- E é uma lógica muito parecida com essa que temos no SVM\n",
    "<br>\n",
    "- Podemos basicamente pegar os pontos que estão mais no extremo dos dados (**os pontos de duas classes diferentes que estão mais próximos entre si**) e usar esses pontos para determinar um <font color='red'>**hiperplano**</font> capaz de separar essas classes\n",
    "<img src=\"https://drive.google.com/uc?id=1KoDBoT2Lcm31A-ebAuWLgilSEEeY4OlW\" style='width: 600px;' />\n",
    "- **Quanto maior a margem, melhor!**\n",
    "<br><br>\n",
    "- Um fato importante é que ele **pode ser utilizado tanto em dados linearmente separáveis** (como mostrado acima) **como em dados que não são linearmente separáveis** (que são a maioria dos nossos dados)\n",
    "    - Ele faz isso elevando as dimensões dos dados\n",
    "    - O SVM vai usar as funções de kernel e no próprio algoritmo ele vai buscar a melhor dimensão capaz de encontrar essa reta\n",
    "    - Só que ele não faz efetivamente essas transformações, ele só vai calcular a relação entre os pontos considerando que eles estão nessas dimensões. Isso é chamado de **\"Truque do Kernel\"**\n",
    "<br>\n",
    "<img src=\"https://drive.google.com/uc?id=1DpLpHou1tc4UayxKFglqb4I48EhjoktX\" style='width: 1000px;' />\n",
    "<br>\n",
    "- E por mais que a gente tenha visto em apenas 1D, ele funciona para qualquer dimensão dos dados\n",
    "<img src=\"https://drive.google.com/uc?id=17U2EPYj1pmbkXFimoLLP1mDWN0uiW3kP\" style='width: 400px;' />\n",
    "<br>\n",
    "- **É um algoritmo muito poderoso porém pode demorar muito tempo para treinar os dados**"
   ]
  },
  {
   "cell_type": "markdown",
   "metadata": {},
   "source": [
    "- **Para começar, podemos já usar o dataset iris**\n",
    "    - https://scikit-learn.org/stable/modules/generated/sklearn.datasets.load_iris.html#sklearn.datasets.load_iris"
   ]
  },
  {
   "cell_type": "code",
   "execution_count": 41,
   "metadata": {},
   "outputs": [],
   "source": [
    "# Importando o dataset\n",
    "from sklearn.datasets import load_iris\n",
    "X,y = load_iris(return_X_y = True, as_frame=True)"
   ]
  },
  {
   "cell_type": "code",
   "execution_count": 42,
   "metadata": {},
   "outputs": [],
   "source": [
    "# Considerando as duas colunas de pétala os targets 0 e 1\n",
    "X = X.loc[y.isin([0,1]),['petal length (cm)','petal width (cm)']]\n",
    "y = y[y.isin([0,1])]"
   ]
  },
  {
   "cell_type": "markdown",
   "metadata": {},
   "source": [
    "- E separar em treino e teste\n",
    "    - https://scikit-learn.org/stable/modules/generated/sklearn.model_selection.train_test_split.html"
   ]
  },
  {
   "cell_type": "code",
   "execution_count": 43,
   "metadata": {},
   "outputs": [],
   "source": [
    "# Separando em treino e teste\n",
    "from sklearn.model_selection import train_test_split\n",
    "X_train, X_test, y_train, y_test = train_test_split(X, y, test_size=0.33, random_state=42)"
   ]
  },
  {
   "cell_type": "markdown",
   "metadata": {},
   "source": [
    "- Visualizando graficamente essas informações\n",
    "    - https://matplotlib.org/stable/plot_types/basic/scatter_plot.html#sphx-glr-plot-types-basic-scatter-plot-py"
   ]
  },
  {
   "cell_type": "code",
   "execution_count": 44,
   "metadata": {},
   "outputs": [
    {
     "data": {
      "image/png": "[encoded data removed]",
      "text/plain": [
       "<Figure size 432x288 with 1 Axes>"
      ]
     },
     "metadata": {
      "needs_background": "light"
     },
     "output_type": "display_data"
    }
   ],
   "source": [
    "# Visualizando graficamente\n",
    "import matplotlib.pyplot as plt\n",
    "import numpy as np\n",
    "\n",
    "fig, ax = plt.subplots()\n",
    "\n",
    "ax.scatter(X_train['petal length (cm)'], X_train['petal width (cm)'],c=y_train,s=60)\n",
    "\n",
    "plt.show()"
   ]
  },
  {
   "cell_type": "markdown",
   "metadata": {},
   "source": [
    "- **Utilizando o SVC**\n",
    "    - https://scikit-learn.org/stable/modules/generated/sklearn.svm.SVC.html#sklearn.svm.SVC"
   ]
  },
  {
   "cell_type": "code",
   "execution_count": 45,
   "metadata": {},
   "outputs": [],
   "source": [
    "# Importando o SVC\n",
    "from sklearn.svm import SVC"
   ]
  },
  {
   "cell_type": "code",
   "execution_count": 46,
   "metadata": {},
   "outputs": [],
   "source": [
    "# Criando o classificador e já fazendo o fit com os dados\n",
    "clf = SVC(kernel='linear').fit(X_train,y_train)"
   ]
  },
  {
   "cell_type": "code",
   "execution_count": 47,
   "metadata": {},
   "outputs": [
    {
     "data": {
      "text/plain": [
       "array([1.1769056 , 0.78337144])"
      ]
     },
     "execution_count": 47,
     "metadata": {},
     "output_type": "execute_result"
    }
   ],
   "source": [
    "# Visualizando o coef\n",
    "clf.coef_[0]"
   ]
  },
  {
   "cell_type": "code",
   "execution_count": 48,
   "metadata": {},
   "outputs": [],
   "source": [
    "# Separando w1\n",
    "w1 = clf.coef_[0][0]"
   ]
  },
  {
   "cell_type": "code",
   "execution_count": 49,
   "metadata": {},
   "outputs": [],
   "source": [
    "# e w2\n",
    "w2 = clf.coef_[0][1]"
   ]
  },
  {
   "cell_type": "code",
   "execution_count": 50,
   "metadata": {},
   "outputs": [],
   "source": [
    "# E agora utilizando o intercept_ como w0\n",
    "w0 = clf.intercept_[0]"
   ]
  },
  {
   "cell_type": "markdown",
   "metadata": {},
   "source": [
    "- Para traçar a reta, podemos considerar que a equação da reta será dada por:\n",
    "    - y = ax + b\n",
    "- Para considerar os dois coeficientes, também podemos escrever como:\n",
    "    - w1.X_train[0] + w2.X_train[1] + w0 = 0\n",
    "    - w1.X_train['petal width (cm)'] + w2.X_train['petal length (cm)'] + w0 = 0\n",
    "    - Sendo x = X_train['petal width (cm)'] e y = X_train['petal length (cm)']:\n",
    "        - w1.x + w2.y + w0 = 0\n",
    "        - w2.y = -w1.x - w0\n",
    "        - y = (-w1.x - w0)/w2"
   ]
  },
  {
   "cell_type": "code",
   "execution_count": 51,
   "metadata": {},
   "outputs": [
    {
     "data": {
      "image/png": "[encoded data removed]",
      "text/plain": [
       "<Figure size 432x288 with 1 Axes>"
      ]
     },
     "metadata": {
      "needs_background": "light"
     },
     "output_type": "display_data"
    }
   ],
   "source": [
    "# Traçando essa reta no gráfico\n",
    "fig, ax = plt.subplots()\n",
    "\n",
    "ax.scatter(X_train['petal length (cm)'], X_train['petal width (cm)'],c=y_train,s=60)\n",
    "\n",
    "x = np.linspace(1,5,100)\n",
    "y = (-w1*x-w0)/w2\n",
    "ax.plot(x,y,'r')\n",
    "\n",
    "ax.set(ylim=(0,1.7))\n",
    "\n",
    "plt.show()"
   ]
  },
  {
   "cell_type": "code",
   "execution_count": 52,
   "metadata": {},
   "outputs": [
    {
     "data": {
      "text/plain": [
       "array([[1.9, 0.2],\n",
       "       [1.7, 0.5],\n",
       "       [3. , 1.1]])"
      ]
     },
     "execution_count": 52,
     "metadata": {},
     "output_type": "execute_result"
    }
   ],
   "source": [
    "# Além disso, também podemos ver quais foram os vetores de suporte utilizados para traçar essa reta\n",
    "clf.support_vectors_"
   ]
  },
  {
   "cell_type": "code",
   "execution_count": 53,
   "metadata": {},
   "outputs": [
    {
     "data": {
      "text/plain": [
       "array([1.9, 1.7, 3. ])"
      ]
     },
     "execution_count": 53,
     "metadata": {},
     "output_type": "execute_result"
    }
   ],
   "source": [
    "# Pegando os valores de x\n",
    "clf.support_vectors_[:,0]"
   ]
  },
  {
   "cell_type": "code",
   "execution_count": 54,
   "metadata": {},
   "outputs": [
    {
     "data": {
      "text/plain": [
       "array([0.2, 0.5, 1.1])"
      ]
     },
     "execution_count": 54,
     "metadata": {},
     "output_type": "execute_result"
    }
   ],
   "source": [
    "# E os valores de y\n",
    "clf.support_vectors_[:,1]"
   ]
  },
  {
   "cell_type": "code",
   "execution_count": 63,
   "metadata": {},
   "outputs": [
    {
     "data": {
      "image/png": "[encoded data removed]",
      "text/plain": [
       "<Figure size 432x288 with 1 Axes>"
      ]
     },
     "metadata": {
      "needs_background": "light"
     },
     "output_type": "display_data"
    }
   ],
   "source": [
    "# Visualizando esses pontos\n",
    "fig, ax = plt.subplots()\n",
    "\n",
    "ax.scatter(X_train['petal length (cm)'], X_train['petal width (cm)'],c=y_train,s=60)\n",
    "\n",
    "x = np.linspace(1,5,100)\n",
    "y = (-w1*x-w0)/w2\n",
    "ax.plot(x,y,'r')\n",
    "y2 = (+1-w1*x-w0)/w2\n",
    "ax.plot(x,y2,'--r')\n",
    "y3 = (-1-w1*x-w0)/w2\n",
    "ax.plot(x,y3,'--r')\n",
    "\n",
    "ax.scatter(clf.support_vectors_[:,0],clf.support_vectors_[:,1],c='r')\n",
    "\n",
    "ax.set(ylim=(0,1.7))\n",
    "\n",
    "plt.show()"
   ]
  },
  {
   "cell_type": "markdown",
   "metadata": {},
   "source": [
    "- **Agora podemos usar toda a nossa base de dados**"
   ]
  },
  {
   "cell_type": "code",
   "execution_count": 29,
   "metadata": {},
   "outputs": [],
   "source": [
    "# Importando o dataset\n",
    "X,y = load_iris(return_X_y = True, as_frame=True)"
   ]
  },
  {
   "cell_type": "code",
   "execution_count": 32,
   "metadata": {},
   "outputs": [],
   "source": [
    "# Separando em treino e teste\n",
    "X_train,X_test,y_train,y_test = train_test_split(X,y,test_size=0.33,random_state=42)"
   ]
  },
  {
   "cell_type": "code",
   "execution_count": 33,
   "metadata": {},
   "outputs": [],
   "source": [
    "# Criando o classificador\n",
    "clf2 = SVC().fit(X_train,y_train)"
   ]
  },
  {
   "cell_type": "code",
   "execution_count": 35,
   "metadata": {},
   "outputs": [],
   "source": [
    "# Fazendo a previsão\n",
    "y_pred = clf2.predict(X_test)"
   ]
  },
  {
   "cell_type": "code",
   "execution_count": 36,
   "metadata": {},
   "outputs": [
    {
     "data": {
      "text/plain": [
       "array([[19,  0,  0],\n",
       "       [ 0, 15,  0],\n",
       "       [ 0,  0, 16]])"
      ]
     },
     "execution_count": 36,
     "metadata": {},
     "output_type": "execute_result"
    }
   ],
   "source": [
    "# E analisando a matriz de confusão\n",
    "from sklearn.metrics import confusion_matrix\n",
    "confusion_matrix(y_test,y_pred)"
   ]
  }
 ],
 "metadata": {
  "kernelspec": {
   "display_name": "Python 3",
   "language": "python",
   "name": "python3"
  },
  "language_info": {
   "codemirror_mode": {
    "name": "ipython",
    "version": 3
   },
   "file_extension": ".py",
   "mimetype": "text/x-python",
   "name": "python",
   "nbconvert_exporter": "python",
   "pygments_lexer": "ipython3",
   "version": "3.8.5"
  }
 },
 "nbformat": 4,
 "nbformat_minor": 5
}
