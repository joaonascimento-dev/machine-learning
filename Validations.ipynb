{
 "cells": [
  {
   "cell_type": "code",
   "execution_count": null,
   "id": "initial_id",
   "metadata": {
    "collapsed": true
   },
   "outputs": [],
   "source": [
    "#Importa a função que carrega dados de vinhos\n",
    "from sklearn.datasets import load_wine\n",
    "\n",
    "#Mostrando info sobre o dataset\n",
    "load_wine()"
   ]
  },
  {
   "cell_type": "code",
   "outputs": [],
   "source": [
    "#Variáveis independentes\n",
    "X = load_wine()['data']\n",
    "#Classes de vinhos - target\n",
    "y = load_wine()['target']\n",
    "display(X)\n",
    "colunas = load_wine()['feature_names']"
   ],
   "metadata": {
    "collapsed": false
   },
   "id": "3799ef81bdb30d23",
   "execution_count": null
  },
  {
   "cell_type": "code",
   "outputs": [],
   "source": [
    "#Importar a bibloteca para tratamento dos dados (pandas)\n",
    "import pandas as pd\n",
    "\n",
    "#Criando o dataframe\n",
    "df = pd.DataFrame(X, columns=colunas)\n",
    "df['classes'] = y\n",
    "df.head()"
   ],
   "metadata": {
    "collapsed": false
   },
   "id": "209109680c5578f",
   "execution_count": null
  },
  {
   "cell_type": "code",
   "outputs": [],
   "source": [
    "df.shape"
   ],
   "metadata": {
    "collapsed": false
   },
   "id": "7fa2a279dace1155",
   "execution_count": null
  },
  {
   "cell_type": "code",
   "outputs": [],
   "source": [
    "#Balanceamento das classes\n",
    "df['classes'].value_counts()"
   ],
   "metadata": {
    "collapsed": false
   },
   "id": "7235fbb9bb6b7b73",
   "execution_count": null
  },
  {
   "cell_type": "code",
   "outputs": [],
   "source": [
    "df['classes'].value_counts(1)"
   ],
   "metadata": {
    "collapsed": false
   },
   "id": "3c679ab211ebb067",
   "execution_count": null
  },
  {
   "cell_type": "code",
   "outputs": [],
   "source": [
    "#Técnica de holdout - Divisão treino e teste\n",
    "from sklearn.model_selection import train_test_split\n",
    "\n",
    "X_train, X_test, y_train, y_test = train_test_split(X, y, test_size=0.2, random_state=42, stratify=y)\n",
    "\n",
    "print(X_train.shape)\n",
    "print(X_test.shape)\n",
    "print(y_train.shape)\n",
    "print(y_test.shape)"
   ],
   "metadata": {
    "collapsed": false
   },
   "id": "6f15a6765c2c3e42",
   "execution_count": null
  },
  {
   "cell_type": "code",
   "outputs": [],
   "source": [
    "#Analisando o Stratify\n",
    "pd.Series(y_train).value_counts(1)"
   ],
   "metadata": {
    "collapsed": false
   },
   "id": "1dfcc895cdcb774c",
   "execution_count": null
  },
  {
   "cell_type": "code",
   "outputs": [],
   "source": [
    "pd.Series(y_test).value_counts(1)"
   ],
   "metadata": {
    "collapsed": false
   },
   "id": "ce2014da508ec600",
   "execution_count": null
  },
  {
   "cell_type": "code",
   "outputs": [],
   "source": [
    "#Dimensionamento das escalas\n",
    "from sklearn.preprocessing import StandardScaler\n",
    "scaler = StandardScaler()\n",
    "\n",
    "#Calcula os parametros da escala e aplicar ao dados de treino\n",
    "X_train = scaler.fit_transform(X_train)\n",
    "#Teste também deve ser escalonado\n",
    "X_test = scaler.fit_transform(X_test)"
   ],
   "metadata": {
    "collapsed": false
   },
   "id": "29e79d38c5af64b7",
   "execution_count": null
  },
  {
   "cell_type": "code",
   "outputs": [],
   "source": [
    "#Importando função de regressão logística\n",
    "from sklearn.linear_model import LogisticRegression\n",
    "#instanciando o modelo\n",
    "model = LogisticRegression()\n",
    "model.fit(X_train, y_train)"
   ],
   "metadata": {
    "collapsed": false
   },
   "id": "22362a18bf0c302f",
   "execution_count": null
  },
  {
   "cell_type": "code",
   "outputs": [],
   "source": [
    "#Testando o modelo\n",
    "#Obtendo as probabilidades da classe prevista\n",
    "y_pred_proba = model.predict(X_test)\n",
    "\n",
    "#Obtendo as previsões do modelo\n",
    "y_pred = model.predict(X_test)"
   ],
   "metadata": {
    "collapsed": false
   },
   "id": "3cd2a8219f581e6b",
   "execution_count": null
  },
  {
   "cell_type": "code",
   "outputs": [],
   "source": [
    "from sklearn.metrics import precision_score\n",
    "#Qual a precisão do modelo?\n",
    "precisao = precision_score(y_test, y_pred, average='macro')\n",
    "print(precisao)\n",
    "\n",
    "#O parâmetro average=macro é eficiente quando as classes estiverem balanceada,\n",
    "# pois considera que cada classe contribui igualmente para a métrica final"
   ],
   "metadata": {
    "collapsed": false
   },
   "id": "d9c57c240f0b3d66",
   "execution_count": null
  },
  {
   "cell_type": "code",
   "outputs": [],
   "source": [
    "precisao = precision_score(y_test, y_pred, average='weighted')\n",
    "print(precisao)\n",
    "\n",
    "# Weighted fornece uma métrica agregada que leva em conta o desequilíbrio das classes"
   ],
   "metadata": {
    "collapsed": false
   },
   "id": "e2d775709996e4af",
   "execution_count": null
  },
  {
   "cell_type": "code",
   "outputs": [],
   "source": [
    "from sklearn.metrics import accuracy_score\n",
    "acuracia = accuracy_score(y_test, y_pred)\n",
    "print(acuracia)"
   ],
   "metadata": {
    "collapsed": false
   },
   "id": "b5a4f69fcfd34004",
   "execution_count": null
  },
  {
   "cell_type": "code",
   "outputs": [],
   "source": [
    "#Cross validation\n",
    "from sklearn.model_selection import StratifiedKFold\n",
    "# Definindo o número de folds\n",
    "k = 5\n",
    "#Inicializando a função\n",
    "fold = StratifiedKFold(n_splits=k, shuffle=True, random_state=42)\n",
    "#Listas para armazenar as precisões e acurárias\n",
    "precisoes = list()\n",
    "acuracias = list()\n",
    "scaler = StandardScaler()\n",
    "\n",
    "#Transformar X e y em um Dataframe e um Series do pandas\n",
    "X = df.drop(columns='classes', axis=1)\n",
    "y = df['classes']"
   ],
   "metadata": {
    "collapsed": false
   },
   "id": "bb665221e86d8d76",
   "execution_count": null
  },
  {
   "cell_type": "code",
   "outputs": [],
   "source": [
    "#Início das iterações de treino e testes\n",
    "#Será aplicado o método de split no objeto fold, que retornará uma lista com os índices das instâncias que pertencem ao conjunto de treino e outra com os índices das instâncias que pertencem ao conjunto de teste.\n",
    "\n",
    "for k, (train_index, test_index) in enumerate(fold.split(X,y)):\n",
    "    #Dividindo os dados em treino e teste\n",
    "    X_train, X_test = X.iloc[train_index], X.iloc[test_index]\n",
    "    y_train, y_test = y[train_index], y[test_index]\n",
    "    \n",
    "    #Escalando os dados. Todas as colunas serão passadas para uma distribuição normal, garantido que as features estejam em uma mesma escala numérica\n",
    "    \n",
    "    #Instanciando e treinando o modelo\n",
    "    model = LogisticRegression()\n",
    "    model.fit(X_train, y_train)\n",
    "    \n",
    "    #Obtendo a probabilidade das classes previstas\n",
    "    y_pred_proba = model.predict_proba(X_test)\n",
    "    #Obtendo a previsão do modelo\n",
    "    y_pred = model.predict(X_test)\n",
    "    \n",
    "    #Calculando a precisão e acurácia do modelo treinado\n",
    "    precisao = precision_score(y_test, y_pred, average='weighted')\n",
    "    acuracia = accuracy_score(y_test, y_pred)\n",
    "    \n",
    "    #Armazena os dados nas listas\n",
    "    precisoes.append(precisao)\n",
    "    acuracias.append(acuracia)\n",
    "    \n",
    "    #Exibindo as métricas de cada fold\n",
    "    print(\"=-\"*6 + f\"Fold: {k+1}\" + \"-=\"*6)\n",
    "    print(f\"Precisão: {precisao:.3f}, Acurácia: {acuracia:.3f}\")"
   ],
   "metadata": {
    "collapsed": false
   },
   "id": "7d59752b6d5a76a5",
   "execution_count": null
  },
  {
   "cell_type": "code",
   "outputs": [
    {
     "name": "stdout",
     "output_type": "stream",
     "text": [
      "Média da Precisão: 0.951, Média da Acurácia: 0.950\n"
     ]
    }
   ],
   "source": [
    "#Calculando as médias\n",
    "precisao = sum(precisoes) / len(precisoes)\n",
    "acuracia = sum(acuracias) / len(acuracias)\n",
    "print(f\"Média da Precisão: {precisao:.3f}, Média da Acurácia: {acuracia:.3f}\")"
   ],
   "metadata": {
    "collapsed": false,
    "ExecuteTime": {
     "end_time": "2024-03-26T22:57:08.707820500Z",
     "start_time": "2024-03-26T22:57:08.698211500Z"
    }
   },
   "id": "460f26896b28e161",
   "execution_count": 22
  }
 ],
 "metadata": {
  "kernelspec": {
   "display_name": "Python 3",
   "language": "python",
   "name": "python3"
  },
  "language_info": {
   "codemirror_mode": {
    "name": "ipython",
    "version": 2
   },
   "file_extension": ".py",
   "mimetype": "text/x-python",
   "name": "python",
   "nbconvert_exporter": "python",
   "pygments_lexer": "ipython2",
   "version": "2.7.6"
  }
 },
 "nbformat": 4,
 "nbformat_minor": 5
}
