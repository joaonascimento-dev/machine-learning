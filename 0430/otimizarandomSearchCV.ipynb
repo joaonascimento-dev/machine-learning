{
 "cells": [
  {
   "cell_type": "code",
   "execution_count": 6,
   "id": "initial_id",
   "metadata": {
    "collapsed": true,
    "ExecuteTime": {
     "end_time": "2024-04-30T23:39:02.938391Z",
     "start_time": "2024-04-30T23:39:02.935620Z"
    }
   },
   "outputs": [],
   "source": [
    "from matplotlib import pyplot as plt\n",
    "from sklearn.datasets import load_iris\n",
    "from sklearn.model_selection import train_test_split, RandomizedSearchCV\n",
    "from sklearn.neighbors import KNeighborsClassifier\n",
    "from sklearn.metrics import accuracy_score"
   ]
  },
  {
   "cell_type": "code",
   "outputs": [],
   "source": [
    "# Carregar os dados\n",
    "iris = load_iris()\n",
    "X, y = iris.data, iris.target"
   ],
   "metadata": {
    "collapsed": false,
    "ExecuteTime": {
     "end_time": "2024-04-30T23:39:03.485180600Z",
     "start_time": "2024-04-30T23:39:03.478252900Z"
    }
   },
   "id": "b017bbe6bbeeb651",
   "execution_count": 7
  },
  {
   "cell_type": "code",
   "outputs": [],
   "source": [
    "# Dividir em treino e teste\n",
    "X_train, X_test, y_train, y_test = train_test_split(X, y, test_size=0.2, random_state=42)"
   ],
   "metadata": {
    "collapsed": false,
    "ExecuteTime": {
     "end_time": "2024-04-30T23:39:03.994614Z",
     "start_time": "2024-04-30T23:39:03.990424800Z"
    }
   },
   "id": "734b2e006b610ddb",
   "execution_count": 8
  },
  {
   "cell_type": "code",
   "outputs": [],
   "source": [
    "#Definicao dos hiperparametros para otimização\n",
    "from scipy.stats import randint\n",
    "param_dist = {\n",
    "    'n_neighbors' : randint(3,20), \n",
    "    'metric' : ['euclidean', 'manhattan', 'minkowski']\n",
    "}"
   ],
   "metadata": {
    "collapsed": false,
    "ExecuteTime": {
     "end_time": "2024-04-30T23:39:04.962151500Z",
     "start_time": "2024-04-30T23:39:04.958599200Z"
    }
   },
   "id": "f24d71770fe7518b",
   "execution_count": 9
  },
  {
   "cell_type": "code",
   "outputs": [],
   "source": [
    "knn = KNeighborsClassifier()"
   ],
   "metadata": {
    "collapsed": false,
    "ExecuteTime": {
     "end_time": "2024-04-30T23:39:05.681954600Z",
     "start_time": "2024-04-30T23:39:05.678608100Z"
    }
   },
   "id": "f515a2e408a94916",
   "execution_count": 10
  },
  {
   "cell_type": "code",
   "outputs": [
    {
     "data": {
      "text/plain": "RandomizedSearchCV(cv=5, estimator=KNeighborsClassifier(), n_jobs=-1,\n                   param_distributions={'metric': ['euclidean', 'manhattan',\n                                                   'minkowski'],\n                                        'n_neighbors': <scipy.stats._distn_infrastructure.rv_discrete_frozen object at 0x0000019194F9AE10>})",
      "text/html": "<style>#sk-container-id-1 {color: black;background-color: white;}#sk-container-id-1 pre{padding: 0;}#sk-container-id-1 div.sk-toggleable {background-color: white;}#sk-container-id-1 label.sk-toggleable__label {cursor: pointer;display: block;width: 100%;margin-bottom: 0;padding: 0.3em;box-sizing: border-box;text-align: center;}#sk-container-id-1 label.sk-toggleable__label-arrow:before {content: \"▸\";float: left;margin-right: 0.25em;color: #696969;}#sk-container-id-1 label.sk-toggleable__label-arrow:hover:before {color: black;}#sk-container-id-1 div.sk-estimator:hover label.sk-toggleable__label-arrow:before {color: black;}#sk-container-id-1 div.sk-toggleable__content {max-height: 0;max-width: 0;overflow: hidden;text-align: left;background-color: #f0f8ff;}#sk-container-id-1 div.sk-toggleable__content pre {margin: 0.2em;color: black;border-radius: 0.25em;background-color: #f0f8ff;}#sk-container-id-1 input.sk-toggleable__control:checked~div.sk-toggleable__content {max-height: 200px;max-width: 100%;overflow: auto;}#sk-container-id-1 input.sk-toggleable__control:checked~label.sk-toggleable__label-arrow:before {content: \"▾\";}#sk-container-id-1 div.sk-estimator input.sk-toggleable__control:checked~label.sk-toggleable__label {background-color: #d4ebff;}#sk-container-id-1 div.sk-label input.sk-toggleable__control:checked~label.sk-toggleable__label {background-color: #d4ebff;}#sk-container-id-1 input.sk-hidden--visually {border: 0;clip: rect(1px 1px 1px 1px);clip: rect(1px, 1px, 1px, 1px);height: 1px;margin: -1px;overflow: hidden;padding: 0;position: absolute;width: 1px;}#sk-container-id-1 div.sk-estimator {font-family: monospace;background-color: #f0f8ff;border: 1px dotted black;border-radius: 0.25em;box-sizing: border-box;margin-bottom: 0.5em;}#sk-container-id-1 div.sk-estimator:hover {background-color: #d4ebff;}#sk-container-id-1 div.sk-parallel-item::after {content: \"\";width: 100%;border-bottom: 1px solid gray;flex-grow: 1;}#sk-container-id-1 div.sk-label:hover label.sk-toggleable__label {background-color: #d4ebff;}#sk-container-id-1 div.sk-serial::before {content: \"\";position: absolute;border-left: 1px solid gray;box-sizing: border-box;top: 0;bottom: 0;left: 50%;z-index: 0;}#sk-container-id-1 div.sk-serial {display: flex;flex-direction: column;align-items: center;background-color: white;padding-right: 0.2em;padding-left: 0.2em;position: relative;}#sk-container-id-1 div.sk-item {position: relative;z-index: 1;}#sk-container-id-1 div.sk-parallel {display: flex;align-items: stretch;justify-content: center;background-color: white;position: relative;}#sk-container-id-1 div.sk-item::before, #sk-container-id-1 div.sk-parallel-item::before {content: \"\";position: absolute;border-left: 1px solid gray;box-sizing: border-box;top: 0;bottom: 0;left: 50%;z-index: -1;}#sk-container-id-1 div.sk-parallel-item {display: flex;flex-direction: column;z-index: 1;position: relative;background-color: white;}#sk-container-id-1 div.sk-parallel-item:first-child::after {align-self: flex-end;width: 50%;}#sk-container-id-1 div.sk-parallel-item:last-child::after {align-self: flex-start;width: 50%;}#sk-container-id-1 div.sk-parallel-item:only-child::after {width: 0;}#sk-container-id-1 div.sk-dashed-wrapped {border: 1px dashed gray;margin: 0 0.4em 0.5em 0.4em;box-sizing: border-box;padding-bottom: 0.4em;background-color: white;}#sk-container-id-1 div.sk-label label {font-family: monospace;font-weight: bold;display: inline-block;line-height: 1.2em;}#sk-container-id-1 div.sk-label-container {text-align: center;}#sk-container-id-1 div.sk-container {/* jupyter's `normalize.less` sets `[hidden] { display: none; }` but bootstrap.min.css set `[hidden] { display: none !important; }` so we also need the `!important` here to be able to override the default hidden behavior on the sphinx rendered scikit-learn.org. See: https://github.com/scikit-learn/scikit-learn/issues/21755 */display: inline-block !important;position: relative;}#sk-container-id-1 div.sk-text-repr-fallback {display: none;}</style><div id=\"sk-container-id-1\" class=\"sk-top-container\"><div class=\"sk-text-repr-fallback\"><pre>RandomizedSearchCV(cv=5, estimator=KNeighborsClassifier(), n_jobs=-1,\n                   param_distributions={&#x27;metric&#x27;: [&#x27;euclidean&#x27;, &#x27;manhattan&#x27;,\n                                                   &#x27;minkowski&#x27;],\n                                        &#x27;n_neighbors&#x27;: &lt;scipy.stats._distn_infrastructure.rv_discrete_frozen object at 0x0000019194F9AE10&gt;})</pre><b>In a Jupyter environment, please rerun this cell to show the HTML representation or trust the notebook. <br />On GitHub, the HTML representation is unable to render, please try loading this page with nbviewer.org.</b></div><div class=\"sk-container\" hidden><div class=\"sk-item sk-dashed-wrapped\"><div class=\"sk-label-container\"><div class=\"sk-label sk-toggleable\"><input class=\"sk-toggleable__control sk-hidden--visually\" id=\"sk-estimator-id-1\" type=\"checkbox\" ><label for=\"sk-estimator-id-1\" class=\"sk-toggleable__label sk-toggleable__label-arrow\">RandomizedSearchCV</label><div class=\"sk-toggleable__content\"><pre>RandomizedSearchCV(cv=5, estimator=KNeighborsClassifier(), n_jobs=-1,\n                   param_distributions={&#x27;metric&#x27;: [&#x27;euclidean&#x27;, &#x27;manhattan&#x27;,\n                                                   &#x27;minkowski&#x27;],\n                                        &#x27;n_neighbors&#x27;: &lt;scipy.stats._distn_infrastructure.rv_discrete_frozen object at 0x0000019194F9AE10&gt;})</pre></div></div></div><div class=\"sk-parallel\"><div class=\"sk-parallel-item\"><div class=\"sk-item\"><div class=\"sk-label-container\"><div class=\"sk-label sk-toggleable\"><input class=\"sk-toggleable__control sk-hidden--visually\" id=\"sk-estimator-id-2\" type=\"checkbox\" ><label for=\"sk-estimator-id-2\" class=\"sk-toggleable__label sk-toggleable__label-arrow\">estimator: KNeighborsClassifier</label><div class=\"sk-toggleable__content\"><pre>KNeighborsClassifier()</pre></div></div></div><div class=\"sk-serial\"><div class=\"sk-item\"><div class=\"sk-estimator sk-toggleable\"><input class=\"sk-toggleable__control sk-hidden--visually\" id=\"sk-estimator-id-3\" type=\"checkbox\" ><label for=\"sk-estimator-id-3\" class=\"sk-toggleable__label sk-toggleable__label-arrow\">KNeighborsClassifier</label><div class=\"sk-toggleable__content\"><pre>KNeighborsClassifier()</pre></div></div></div></div></div></div></div></div></div></div>"
     },
     "execution_count": 11,
     "metadata": {},
     "output_type": "execute_result"
    }
   ],
   "source": [
    "#Configurar o otimizador\n",
    "\n",
    "randomsearch = RandomizedSearchCV(knn, param_distributions=param_dist, cv=5, n_jobs=-1, n_iter=10)\n",
    "# Treina o modelo\n",
    "randomsearch.fit(X_train, y_train)"
   ],
   "metadata": {
    "collapsed": false,
    "ExecuteTime": {
     "end_time": "2024-04-30T23:39:08.640877200Z",
     "start_time": "2024-04-30T23:39:06.178245200Z"
    }
   },
   "id": "473f6891840b4477",
   "execution_count": 11
  },
  {
   "cell_type": "code",
   "outputs": [
    {
     "name": "stdout",
     "output_type": "stream",
     "text": [
      "Combinação 1: {'metric': 'manhattan', 'n_neighbors': 7} - Acurácia: 0.94\n",
      "Combinação 2: {'metric': 'minkowski', 'n_neighbors': 16} - Acurácia: 0.94\n",
      "Combinação 3: {'metric': 'manhattan', 'n_neighbors': 9} - Acurácia: 0.94\n",
      "Combinação 4: {'metric': 'manhattan', 'n_neighbors': 11} - Acurácia: 0.95\n",
      "Combinação 5: {'metric': 'manhattan', 'n_neighbors': 9} - Acurácia: 0.94\n",
      "Combinação 6: {'metric': 'minkowski', 'n_neighbors': 11} - Acurácia: 0.95\n",
      "Combinação 7: {'metric': 'minkowski', 'n_neighbors': 8} - Acurácia: 0.93\n",
      "Combinação 8: {'metric': 'minkowski', 'n_neighbors': 7} - Acurácia: 0.94\n",
      "Combinação 9: {'metric': 'minkowski', 'n_neighbors': 19} - Acurácia: 0.94\n",
      "Combinação 10: {'metric': 'euclidean', 'n_neighbors': 8} - Acurácia: 0.93\n"
     ]
    }
   ],
   "source": [
    "#Obtendo os resultados\n",
    "resultados = randomsearch.cv_results_\n",
    "for i, params in enumerate(resultados['params']): \n",
    "    print(f\"Combinação {i+1}: {params} - Acurácia: {resultados['mean_test_score'][i]:.2f}\")"
   ],
   "metadata": {
    "collapsed": false,
    "ExecuteTime": {
     "end_time": "2024-04-30T23:39:21.149127400Z",
     "start_time": "2024-04-30T23:39:21.135694500Z"
    }
   },
   "id": "63ecd139d1705eb7",
   "execution_count": 12
  },
  {
   "cell_type": "code",
   "outputs": [
    {
     "data": {
      "text/plain": "   mean_fit_time  std_fit_time  mean_score_time  std_score_time param_metric  \\\n0       0.001637      0.000547         0.004818        0.000198    manhattan   \n1       0.001219      0.000064         0.004511        0.000947    minkowski   \n2       0.000982      0.000430         0.003705        0.001202    manhattan   \n3       0.000968      0.000422         0.005357        0.001476    manhattan   \n4       0.001120      0.000121         0.003589        0.000575    manhattan   \n5       0.001097      0.000094         0.003284        0.000479    minkowski   \n6       0.001020      0.000552         0.003454        0.000419    minkowski   \n7       0.001147      0.000006         0.003013        0.000558    minkowski   \n8       0.000908      0.000458         0.003520        0.000051    minkowski   \n9       0.000492      0.000550         0.003485        0.000007    euclidean   \n\n  param_n_neighbors                                      params  \\\n0                 7   {'metric': 'manhattan', 'n_neighbors': 7}   \n1                16  {'metric': 'minkowski', 'n_neighbors': 16}   \n2                 9   {'metric': 'manhattan', 'n_neighbors': 9}   \n3                11  {'metric': 'manhattan', 'n_neighbors': 11}   \n4                 9   {'metric': 'manhattan', 'n_neighbors': 9}   \n5                11  {'metric': 'minkowski', 'n_neighbors': 11}   \n6                 8   {'metric': 'minkowski', 'n_neighbors': 8}   \n7                 7   {'metric': 'minkowski', 'n_neighbors': 7}   \n8                19  {'metric': 'minkowski', 'n_neighbors': 19}   \n9                 8   {'metric': 'euclidean', 'n_neighbors': 8}   \n\n   split0_test_score  split1_test_score  split2_test_score  split3_test_score  \\\n0           0.958333           0.958333           0.833333                1.0   \n1           1.000000           0.916667           0.833333                1.0   \n2           0.958333           0.958333           0.833333                1.0   \n3           1.000000           0.958333           0.833333                1.0   \n4           0.958333           0.958333           0.833333                1.0   \n5           1.000000           0.958333           0.833333                1.0   \n6           0.958333           0.916667           0.833333                1.0   \n7           0.958333           0.958333           0.833333                1.0   \n8           1.000000           0.916667           0.833333                1.0   \n9           0.958333           0.916667           0.833333                1.0   \n\n   split4_test_score  mean_test_score  std_test_score  rank_test_score  \n0           0.958333         0.941667        0.056519                3  \n1           0.958333         0.941667        0.062361                3  \n2           0.958333         0.941667        0.056519                3  \n3           0.958333         0.950000        0.061237                1  \n4           0.958333         0.941667        0.056519                3  \n5           0.958333         0.950000        0.061237                1  \n6           0.958333         0.933333        0.056519                9  \n7           0.958333         0.941667        0.056519                3  \n8           0.958333         0.941667        0.062361                3  \n9           0.958333         0.933333        0.056519                9  ",
      "text/html": "<div>\n<style scoped>\n    .dataframe tbody tr th:only-of-type {\n        vertical-align: middle;\n    }\n\n    .dataframe tbody tr th {\n        vertical-align: top;\n    }\n\n    .dataframe thead th {\n        text-align: right;\n    }\n</style>\n<table border=\"1\" class=\"dataframe\">\n  <thead>\n    <tr style=\"text-align: right;\">\n      <th></th>\n      <th>mean_fit_time</th>\n      <th>std_fit_time</th>\n      <th>mean_score_time</th>\n      <th>std_score_time</th>\n      <th>param_metric</th>\n      <th>param_n_neighbors</th>\n      <th>params</th>\n      <th>split0_test_score</th>\n      <th>split1_test_score</th>\n      <th>split2_test_score</th>\n      <th>split3_test_score</th>\n      <th>split4_test_score</th>\n      <th>mean_test_score</th>\n      <th>std_test_score</th>\n      <th>rank_test_score</th>\n    </tr>\n  </thead>\n  <tbody>\n    <tr>\n      <th>0</th>\n      <td>0.001637</td>\n      <td>0.000547</td>\n      <td>0.004818</td>\n      <td>0.000198</td>\n      <td>manhattan</td>\n      <td>7</td>\n      <td>{'metric': 'manhattan', 'n_neighbors': 7}</td>\n      <td>0.958333</td>\n      <td>0.958333</td>\n      <td>0.833333</td>\n      <td>1.0</td>\n      <td>0.958333</td>\n      <td>0.941667</td>\n      <td>0.056519</td>\n      <td>3</td>\n    </tr>\n    <tr>\n      <th>1</th>\n      <td>0.001219</td>\n      <td>0.000064</td>\n      <td>0.004511</td>\n      <td>0.000947</td>\n      <td>minkowski</td>\n      <td>16</td>\n      <td>{'metric': 'minkowski', 'n_neighbors': 16}</td>\n      <td>1.000000</td>\n      <td>0.916667</td>\n      <td>0.833333</td>\n      <td>1.0</td>\n      <td>0.958333</td>\n      <td>0.941667</td>\n      <td>0.062361</td>\n      <td>3</td>\n    </tr>\n    <tr>\n      <th>2</th>\n      <td>0.000982</td>\n      <td>0.000430</td>\n      <td>0.003705</td>\n      <td>0.001202</td>\n      <td>manhattan</td>\n      <td>9</td>\n      <td>{'metric': 'manhattan', 'n_neighbors': 9}</td>\n      <td>0.958333</td>\n      <td>0.958333</td>\n      <td>0.833333</td>\n      <td>1.0</td>\n      <td>0.958333</td>\n      <td>0.941667</td>\n      <td>0.056519</td>\n      <td>3</td>\n    </tr>\n    <tr>\n      <th>3</th>\n      <td>0.000968</td>\n      <td>0.000422</td>\n      <td>0.005357</td>\n      <td>0.001476</td>\n      <td>manhattan</td>\n      <td>11</td>\n      <td>{'metric': 'manhattan', 'n_neighbors': 11}</td>\n      <td>1.000000</td>\n      <td>0.958333</td>\n      <td>0.833333</td>\n      <td>1.0</td>\n      <td>0.958333</td>\n      <td>0.950000</td>\n      <td>0.061237</td>\n      <td>1</td>\n    </tr>\n    <tr>\n      <th>4</th>\n      <td>0.001120</td>\n      <td>0.000121</td>\n      <td>0.003589</td>\n      <td>0.000575</td>\n      <td>manhattan</td>\n      <td>9</td>\n      <td>{'metric': 'manhattan', 'n_neighbors': 9}</td>\n      <td>0.958333</td>\n      <td>0.958333</td>\n      <td>0.833333</td>\n      <td>1.0</td>\n      <td>0.958333</td>\n      <td>0.941667</td>\n      <td>0.056519</td>\n      <td>3</td>\n    </tr>\n    <tr>\n      <th>5</th>\n      <td>0.001097</td>\n      <td>0.000094</td>\n      <td>0.003284</td>\n      <td>0.000479</td>\n      <td>minkowski</td>\n      <td>11</td>\n      <td>{'metric': 'minkowski', 'n_neighbors': 11}</td>\n      <td>1.000000</td>\n      <td>0.958333</td>\n      <td>0.833333</td>\n      <td>1.0</td>\n      <td>0.958333</td>\n      <td>0.950000</td>\n      <td>0.061237</td>\n      <td>1</td>\n    </tr>\n    <tr>\n      <th>6</th>\n      <td>0.001020</td>\n      <td>0.000552</td>\n      <td>0.003454</td>\n      <td>0.000419</td>\n      <td>minkowski</td>\n      <td>8</td>\n      <td>{'metric': 'minkowski', 'n_neighbors': 8}</td>\n      <td>0.958333</td>\n      <td>0.916667</td>\n      <td>0.833333</td>\n      <td>1.0</td>\n      <td>0.958333</td>\n      <td>0.933333</td>\n      <td>0.056519</td>\n      <td>9</td>\n    </tr>\n    <tr>\n      <th>7</th>\n      <td>0.001147</td>\n      <td>0.000006</td>\n      <td>0.003013</td>\n      <td>0.000558</td>\n      <td>minkowski</td>\n      <td>7</td>\n      <td>{'metric': 'minkowski', 'n_neighbors': 7}</td>\n      <td>0.958333</td>\n      <td>0.958333</td>\n      <td>0.833333</td>\n      <td>1.0</td>\n      <td>0.958333</td>\n      <td>0.941667</td>\n      <td>0.056519</td>\n      <td>3</td>\n    </tr>\n    <tr>\n      <th>8</th>\n      <td>0.000908</td>\n      <td>0.000458</td>\n      <td>0.003520</td>\n      <td>0.000051</td>\n      <td>minkowski</td>\n      <td>19</td>\n      <td>{'metric': 'minkowski', 'n_neighbors': 19}</td>\n      <td>1.000000</td>\n      <td>0.916667</td>\n      <td>0.833333</td>\n      <td>1.0</td>\n      <td>0.958333</td>\n      <td>0.941667</td>\n      <td>0.062361</td>\n      <td>3</td>\n    </tr>\n    <tr>\n      <th>9</th>\n      <td>0.000492</td>\n      <td>0.000550</td>\n      <td>0.003485</td>\n      <td>0.000007</td>\n      <td>euclidean</td>\n      <td>8</td>\n      <td>{'metric': 'euclidean', 'n_neighbors': 8}</td>\n      <td>0.958333</td>\n      <td>0.916667</td>\n      <td>0.833333</td>\n      <td>1.0</td>\n      <td>0.958333</td>\n      <td>0.933333</td>\n      <td>0.056519</td>\n      <td>9</td>\n    </tr>\n  </tbody>\n</table>\n</div>"
     },
     "execution_count": 13,
     "metadata": {},
     "output_type": "execute_result"
    }
   ],
   "source": [
    "import pandas as pd\n",
    "df = pd.DataFrame(resultados)\n",
    "df"
   ],
   "metadata": {
    "collapsed": false,
    "ExecuteTime": {
     "end_time": "2024-04-30T23:39:34.382907500Z",
     "start_time": "2024-04-30T23:39:34.091519200Z"
    }
   },
   "id": "28299d2b6c8d5120",
   "execution_count": 13
  },
  {
   "cell_type": "code",
   "outputs": [
    {
     "data": {
      "text/plain": "{'metric': 'manhattan', 'n_neighbors': 11}"
     },
     "execution_count": 15,
     "metadata": {},
     "output_type": "execute_result"
    }
   ],
   "source": [
    "randomsearch.best_params_"
   ],
   "metadata": {
    "collapsed": false,
    "ExecuteTime": {
     "end_time": "2024-04-30T23:40:18.391964800Z",
     "start_time": "2024-04-30T23:40:18.380407100Z"
    }
   },
   "id": "2b64317dfc9580cb",
   "execution_count": 15
  }
 ],
 "metadata": {
  "kernelspec": {
   "display_name": "Python 3",
   "language": "python",
   "name": "python3"
  },
  "language_info": {
   "codemirror_mode": {
    "name": "ipython",
    "version": 2
   },
   "file_extension": ".py",
   "mimetype": "text/x-python",
   "name": "python",
   "nbconvert_exporter": "python",
   "pygments_lexer": "ipython2",
   "version": "2.7.6"
  }
 },
 "nbformat": 4,
 "nbformat_minor": 5
}
