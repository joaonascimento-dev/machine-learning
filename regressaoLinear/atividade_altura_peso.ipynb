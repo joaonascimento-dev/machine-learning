{
 "cells": [
  {
   "cell_type": "markdown",
   "source": [
    "João Victor Nascimento da Silva"
   ],
   "metadata": {
    "collapsed": false
   },
   "id": "f6f8e6c0f785d904"
  },
  {
   "cell_type": "markdown",
   "source": [
    "Consider the dataset below that contains **heights** (in inches/inches) and **weights** (in pounds/lbs) of fake people. <br/>\n",
    "https://www.kaggle.com/mustafaali96/weight-height\n",
    "\n",
    "Perform the following tasks:\n",
    "- Split the dataset into 80% for training and 20% for testing\n",
    "- Compute the correlation between the training set variables\n",
    "- Train a regression model considerint **height** as the independent variable and **weight** as the dependent one\n",
    "   + Compute the model determination coefficient\n",
    "   + Plot a scatterplot of the two variables containing the regression model (line)\n",
    "- Predict the test set\n",
    "   + Plot a scatterplot of the two variables containing the regression model (line)\n",
    "   + Compute error metrics for regression"
   ],
   "metadata": {
    "collapsed": false
   },
   "id": "340def8b612295d9"
  },
  {
   "cell_type": "code",
   "outputs": [],
   "source": [
    "import numpy as np\n",
    "import pandas as pd\n",
    "import matplotlib.pyplot as plt\n",
    "import seaborn as sns\n",
    "\n",
    "params = {'legend.fontsize': 'x-large',\n",
    "          'figure.figsize': (15, 5),\n",
    "         'axes.labelsize': 'x-large',\n",
    "         'axes.titlesize':'x-large',\n",
    "         'xtick.labelsize':'x-large',\n",
    "         'ytick.labelsize':'x-large'}\n",
    "plt.rcParams.update(params)"
   ],
   "metadata": {
    "collapsed": false
   },
   "id": "64b185e890f0ad15",
   "execution_count": null
  },
  {
   "cell_type": "code",
   "outputs": [],
   "source": [
    "df = pd.read_csv('datasets/weight-height.csv')\n",
    "df.head()"
   ],
   "metadata": {
    "collapsed": false
   },
   "id": "c13f5f43111bf44c",
   "execution_count": null
  },
  {
   "cell_type": "code",
   "outputs": [],
   "source": [
    "df = df[['Height', 'Weight']]\n",
    "df"
   ],
   "metadata": {
    "collapsed": false
   },
   "id": "1ca962654fb27267",
   "execution_count": null
  },
  {
   "cell_type": "code",
   "outputs": [],
   "source": [
    "df.shape"
   ],
   "metadata": {
    "collapsed": false
   },
   "id": "db5f81424a376175",
   "execution_count": null
  },
  {
   "cell_type": "code",
   "outputs": [],
   "source": [
    "df.corr()"
   ],
   "metadata": {
    "collapsed": false
   },
   "id": "d1b5917647b1dc8e",
   "execution_count": null
  },
  {
   "cell_type": "code",
   "outputs": [],
   "source": [
    "X = df[['Height']]\n",
    "X"
   ],
   "metadata": {
    "collapsed": false
   },
   "id": "4c84d12a6767672f",
   "execution_count": null
  },
  {
   "cell_type": "code",
   "outputs": [],
   "source": [
    "y = df['Weight']\n",
    "y"
   ],
   "metadata": {
    "collapsed": false
   },
   "id": "a2f522daf7a414ec",
   "execution_count": null
  },
  {
   "cell_type": "code",
   "outputs": [],
   "source": [
    "from sklearn.model_selection import train_test_split"
   ],
   "metadata": {
    "collapsed": false
   },
   "id": "a6efd17a27d6d4f3",
   "execution_count": null
  },
  {
   "cell_type": "code",
   "outputs": [],
   "source": [
    "# Split the dataset into 80% for training and 20% for testing\n",
    "X_train, X_test, y_train, y_test = train_test_split(X, y, test_size=0.2, random_state=69) #42"
   ],
   "metadata": {
    "collapsed": false
   },
   "id": "b3f5dbec49fc3c99",
   "execution_count": null
  },
  {
   "cell_type": "code",
   "outputs": [],
   "source": [
    "df_train = pd.DataFrame({'Height': X_train['Height'], 'Weight': y_train})\n",
    "df_train"
   ],
   "metadata": {
    "collapsed": false
   },
   "id": "aaba251bc0d272e3",
   "execution_count": null
  },
  {
   "cell_type": "code",
   "outputs": [],
   "source": [
    "# Compute the correlation between the training set variables\n",
    "df_train.corr()"
   ],
   "metadata": {
    "collapsed": false
   },
   "id": "efaf9296b0659450",
   "execution_count": null
  },
  {
   "cell_type": "code",
   "outputs": [],
   "source": [
    "# Plot a scatterplot of the two variables containing the regression model (line)\n",
    "sns.regplot(data=df_train, x='Height', y='Weight')"
   ],
   "metadata": {
    "collapsed": false
   },
   "id": "9ab269d1029f49df",
   "execution_count": null
  },
  {
   "cell_type": "code",
   "outputs": [],
   "source": [
    "from sklearn.linear_model import LinearRegression"
   ],
   "metadata": {
    "collapsed": false
   },
   "id": "7557173619bee3de",
   "execution_count": null
  },
  {
   "cell_type": "code",
   "outputs": [],
   "source": [
    "reg = LinearRegression()\n",
    "reg"
   ],
   "metadata": {
    "collapsed": false
   },
   "id": "23059ae17b2a923c",
   "execution_count": null
  },
  {
   "cell_type": "code",
   "outputs": [],
   "source": [
    "# Train a regression model considering height as the independent variable and weight as the dependent one\n",
    "reg.fit(X_train, y_train)"
   ],
   "metadata": {
    "collapsed": false
   },
   "id": "f3abd903d12cfd88",
   "execution_count": null
  },
  {
   "cell_type": "code",
   "outputs": [],
   "source": [
    "# Compute the model determination coefficient\n",
    "reg.coef_"
   ],
   "metadata": {
    "collapsed": false
   },
   "id": "850d1ae2ab96bee5",
   "execution_count": null
  },
  {
   "cell_type": "code",
   "outputs": [],
   "source": [
    "# Predict the test set\n",
    "y_pred = reg.predict(X_test)\n",
    "y_pred"
   ],
   "metadata": {
    "collapsed": false
   },
   "id": "d75f31b41220960c",
   "execution_count": null
  },
  {
   "cell_type": "code",
   "outputs": [],
   "source": [
    "# Conferindo a predição\n",
    "res = pd.DataFrame({\n",
    "    'Height': X_test['Height'],\n",
    "    'Weight': y_pred.round(decimals=2),\n",
    "    'Weight (true)': y_test.round(decimals=2),\n",
    "    'Diferença residual': (y_test - y_pred).round(decimals=2),\n",
    "    'Diferença absoluta': abs((y_test - y_pred).round(decimals=2))\n",
    "})\n",
    "res"
   ],
   "metadata": {
    "collapsed": false
   },
   "id": "bc89de1c70f1eba1",
   "execution_count": null
  },
  {
   "cell_type": "code",
   "outputs": [],
   "source": [
    "# Plot a scatterplot of the two variables containing the regression model (line)\n",
    "fig, axs = plt.subplots(1, 2, figsize=(20, 6), sharex=True, sharey=True)\n",
    "regression_line_x = X['Height']\n",
    "regression_line_y = reg.predict(X)\n",
    "\n",
    "sns.scatterplot(x=X_train['Height'], y=y_train, ax=axs[0])\n",
    "sns.lineplot(x=regression_line_x, y=regression_line_y, color=\"red\", ax=axs[0])\n",
    "axs[0].set_title('Height vs Weight (Training Set)')\n",
    "axs[0].set_xlabel('Height')\n",
    "axs[0].set_ylabel('Weight')\n",
    "\n",
    "sns.scatterplot(x=X_test['Height'], y=y_test, color=\"green\", marker='*', s=200, ax=axs[1])\n",
    "sns.lineplot(x=regression_line_x, y=regression_line_y, color=\"red\", ax=axs[1])\n",
    "axs[1].set_title('Height vs Weight (Testing Set)')\n",
    "axs[1].set_xlabel('Height')\n",
    "axs[1].set_ylabel('Weight')\n",
    "\n",
    "display()"
   ],
   "metadata": {
    "collapsed": false
   },
   "id": "725f7b2fb24e339e",
   "execution_count": null
  },
  {
   "cell_type": "code",
   "outputs": [],
   "source": [
    "display()\n",
    "X_labeled = X.copy()\n",
    "X_labeled['Label'] = 'Train'\n",
    "X_labeled.loc[X_test.index, 'Label'] = 'Test'\n",
    "\n",
    "sns.scatterplot(data=X_labeled, x='Height', y=y, hue='Label', style='Label', s=100)\n",
    "sns.lineplot(x=regression_line_x, y=regression_line_y, color=\"red\")\n",
    "plt.title('Height vs Weight (Training and Testing Set)')\n",
    "plt.xlabel('Height')\n",
    "plt.ylabel('Weight')"
   ],
   "metadata": {
    "collapsed": false
   },
   "id": "bd5d309a6614539a",
   "execution_count": null
  },
  {
   "cell_type": "code",
   "outputs": [],
   "source": [
    "# Compute error metrics for regression\n",
    "from sklearn.metrics import mean_absolute_error\n",
    "MAE = mean_absolute_error(y_test, y_pred)\n",
    "MAE"
   ],
   "metadata": {
    "collapsed": false
   },
   "id": "d75c178e4c7f1eb0",
   "execution_count": null
  },
  {
   "cell_type": "code",
   "outputs": [],
   "source": [
    "from sklearn.metrics import mean_squared_error\n",
    "MSE = mean_squared_error(y_test, y_pred)\n",
    "MSE"
   ],
   "metadata": {
    "collapsed": false
   },
   "id": "f3dbb4546da01b2e",
   "execution_count": null
  },
  {
   "cell_type": "code",
   "outputs": [],
   "source": [
    "RMSE = mean_squared_error(y_test, y_pred, squared=False)\n",
    "RMSE"
   ],
   "metadata": {
    "collapsed": false
   },
   "id": "a45d1ed6cbab9031",
   "execution_count": null
  }
 ],
 "metadata": {
  "kernelspec": {
   "display_name": "Python 3",
   "language": "python",
   "name": "python3"
  },
  "language_info": {
   "codemirror_mode": {
    "name": "ipython",
    "version": 2
   },
   "file_extension": ".py",
   "mimetype": "text/x-python",
   "name": "python",
   "nbconvert_exporter": "python",
   "pygments_lexer": "ipython2",
   "version": "2.7.6"
  }
 },
 "nbformat": 4,
 "nbformat_minor": 5
}
